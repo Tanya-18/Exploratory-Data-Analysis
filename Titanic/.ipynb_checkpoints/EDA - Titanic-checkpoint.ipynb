{
 "cells": [
  {
   "cell_type": "code",
   "execution_count": 1,
   "metadata": {},
   "outputs": [],
   "source": [
    "import pandas as pd\n",
    "import numpy as np\n",
    "import seaborn as sns\n",
    "import matplotlib.pyplot as plt\n",
    "%matplotlib inline\n",
    "sns.set_palette(\"magma_r\")"
   ]
  },
  {
   "cell_type": "code",
   "execution_count": 2,
   "metadata": {},
   "outputs": [],
   "source": [
    "df = pd.read_csv('data/test.csv')\n",
    "df1 = pd.read_csv('data/train.csv')"
   ]
  },
  {
   "cell_type": "code",
   "execution_count": 3,
   "metadata": {},
   "outputs": [
    {
     "data": {
      "text/html": [
       "<div>\n",
       "<style scoped>\n",
       "    .dataframe tbody tr th:only-of-type {\n",
       "        vertical-align: middle;\n",
       "    }\n",
       "\n",
       "    .dataframe tbody tr th {\n",
       "        vertical-align: top;\n",
       "    }\n",
       "\n",
       "    .dataframe thead th {\n",
       "        text-align: right;\n",
       "    }\n",
       "</style>\n",
       "<table border=\"1\" class=\"dataframe\">\n",
       "  <thead>\n",
       "    <tr style=\"text-align: right;\">\n",
       "      <th></th>\n",
       "      <th>PassengerId</th>\n",
       "      <th>Survived</th>\n",
       "      <th>Pclass</th>\n",
       "      <th>Name</th>\n",
       "      <th>Sex</th>\n",
       "      <th>Age</th>\n",
       "      <th>SibSp</th>\n",
       "      <th>Parch</th>\n",
       "      <th>Ticket</th>\n",
       "      <th>Fare</th>\n",
       "      <th>Cabin</th>\n",
       "      <th>Embarked</th>\n",
       "    </tr>\n",
       "  </thead>\n",
       "  <tbody>\n",
       "    <tr>\n",
       "      <th>0</th>\n",
       "      <td>1</td>\n",
       "      <td>0</td>\n",
       "      <td>3</td>\n",
       "      <td>Braund, Mr. Owen Harris</td>\n",
       "      <td>male</td>\n",
       "      <td>22.0</td>\n",
       "      <td>1</td>\n",
       "      <td>0</td>\n",
       "      <td>A/5 21171</td>\n",
       "      <td>7.2500</td>\n",
       "      <td>NaN</td>\n",
       "      <td>S</td>\n",
       "    </tr>\n",
       "    <tr>\n",
       "      <th>1</th>\n",
       "      <td>2</td>\n",
       "      <td>1</td>\n",
       "      <td>1</td>\n",
       "      <td>Cumings, Mrs. John Bradley (Florence Briggs Th...</td>\n",
       "      <td>female</td>\n",
       "      <td>38.0</td>\n",
       "      <td>1</td>\n",
       "      <td>0</td>\n",
       "      <td>PC 17599</td>\n",
       "      <td>71.2833</td>\n",
       "      <td>C85</td>\n",
       "      <td>C</td>\n",
       "    </tr>\n",
       "    <tr>\n",
       "      <th>2</th>\n",
       "      <td>3</td>\n",
       "      <td>1</td>\n",
       "      <td>3</td>\n",
       "      <td>Heikkinen, Miss. Laina</td>\n",
       "      <td>female</td>\n",
       "      <td>26.0</td>\n",
       "      <td>0</td>\n",
       "      <td>0</td>\n",
       "      <td>STON/O2. 3101282</td>\n",
       "      <td>7.9250</td>\n",
       "      <td>NaN</td>\n",
       "      <td>S</td>\n",
       "    </tr>\n",
       "    <tr>\n",
       "      <th>3</th>\n",
       "      <td>4</td>\n",
       "      <td>1</td>\n",
       "      <td>1</td>\n",
       "      <td>Futrelle, Mrs. Jacques Heath (Lily May Peel)</td>\n",
       "      <td>female</td>\n",
       "      <td>35.0</td>\n",
       "      <td>1</td>\n",
       "      <td>0</td>\n",
       "      <td>113803</td>\n",
       "      <td>53.1000</td>\n",
       "      <td>C123</td>\n",
       "      <td>S</td>\n",
       "    </tr>\n",
       "    <tr>\n",
       "      <th>4</th>\n",
       "      <td>5</td>\n",
       "      <td>0</td>\n",
       "      <td>3</td>\n",
       "      <td>Allen, Mr. William Henry</td>\n",
       "      <td>male</td>\n",
       "      <td>35.0</td>\n",
       "      <td>0</td>\n",
       "      <td>0</td>\n",
       "      <td>373450</td>\n",
       "      <td>8.0500</td>\n",
       "      <td>NaN</td>\n",
       "      <td>S</td>\n",
       "    </tr>\n",
       "  </tbody>\n",
       "</table>\n",
       "</div>"
      ],
      "text/plain": [
       "   PassengerId  Survived  Pclass  \\\n",
       "0            1         0       3   \n",
       "1            2         1       1   \n",
       "2            3         1       3   \n",
       "3            4         1       1   \n",
       "4            5         0       3   \n",
       "\n",
       "                                                Name     Sex   Age  SibSp  \\\n",
       "0                            Braund, Mr. Owen Harris    male  22.0      1   \n",
       "1  Cumings, Mrs. John Bradley (Florence Briggs Th...  female  38.0      1   \n",
       "2                             Heikkinen, Miss. Laina  female  26.0      0   \n",
       "3       Futrelle, Mrs. Jacques Heath (Lily May Peel)  female  35.0      1   \n",
       "4                           Allen, Mr. William Henry    male  35.0      0   \n",
       "\n",
       "   Parch            Ticket     Fare Cabin Embarked  \n",
       "0      0         A/5 21171   7.2500   NaN        S  \n",
       "1      0          PC 17599  71.2833   C85        C  \n",
       "2      0  STON/O2. 3101282   7.9250   NaN        S  \n",
       "3      0            113803  53.1000  C123        S  \n",
       "4      0            373450   8.0500   NaN        S  "
      ]
     },
     "execution_count": 3,
     "metadata": {},
     "output_type": "execute_result"
    }
   ],
   "source": [
    "df1.head()"
   ]
  },
  {
   "cell_type": "code",
   "execution_count": 4,
   "metadata": {},
   "outputs": [
    {
     "data": {
      "text/html": [
       "<div>\n",
       "<style scoped>\n",
       "    .dataframe tbody tr th:only-of-type {\n",
       "        vertical-align: middle;\n",
       "    }\n",
       "\n",
       "    .dataframe tbody tr th {\n",
       "        vertical-align: top;\n",
       "    }\n",
       "\n",
       "    .dataframe thead th {\n",
       "        text-align: right;\n",
       "    }\n",
       "</style>\n",
       "<table border=\"1\" class=\"dataframe\">\n",
       "  <thead>\n",
       "    <tr style=\"text-align: right;\">\n",
       "      <th></th>\n",
       "      <th>Survived</th>\n",
       "      <th>Pclass</th>\n",
       "      <th>Name</th>\n",
       "      <th>Sex</th>\n",
       "      <th>Age</th>\n",
       "      <th>SibSp</th>\n",
       "      <th>Parch</th>\n",
       "      <th>Ticket</th>\n",
       "      <th>Fare</th>\n",
       "      <th>Cabin</th>\n",
       "      <th>Embarked</th>\n",
       "    </tr>\n",
       "    <tr>\n",
       "      <th>PassengerId</th>\n",
       "      <th></th>\n",
       "      <th></th>\n",
       "      <th></th>\n",
       "      <th></th>\n",
       "      <th></th>\n",
       "      <th></th>\n",
       "      <th></th>\n",
       "      <th></th>\n",
       "      <th></th>\n",
       "      <th></th>\n",
       "      <th></th>\n",
       "    </tr>\n",
       "  </thead>\n",
       "  <tbody>\n",
       "    <tr>\n",
       "      <th>1</th>\n",
       "      <td>0</td>\n",
       "      <td>3</td>\n",
       "      <td>Braund, Mr. Owen Harris</td>\n",
       "      <td>male</td>\n",
       "      <td>22.0</td>\n",
       "      <td>1</td>\n",
       "      <td>0</td>\n",
       "      <td>A/5 21171</td>\n",
       "      <td>7.2500</td>\n",
       "      <td>NaN</td>\n",
       "      <td>S</td>\n",
       "    </tr>\n",
       "    <tr>\n",
       "      <th>2</th>\n",
       "      <td>1</td>\n",
       "      <td>1</td>\n",
       "      <td>Cumings, Mrs. John Bradley (Florence Briggs Th...</td>\n",
       "      <td>female</td>\n",
       "      <td>38.0</td>\n",
       "      <td>1</td>\n",
       "      <td>0</td>\n",
       "      <td>PC 17599</td>\n",
       "      <td>71.2833</td>\n",
       "      <td>C85</td>\n",
       "      <td>C</td>\n",
       "    </tr>\n",
       "    <tr>\n",
       "      <th>3</th>\n",
       "      <td>1</td>\n",
       "      <td>3</td>\n",
       "      <td>Heikkinen, Miss. Laina</td>\n",
       "      <td>female</td>\n",
       "      <td>26.0</td>\n",
       "      <td>0</td>\n",
       "      <td>0</td>\n",
       "      <td>STON/O2. 3101282</td>\n",
       "      <td>7.9250</td>\n",
       "      <td>NaN</td>\n",
       "      <td>S</td>\n",
       "    </tr>\n",
       "    <tr>\n",
       "      <th>4</th>\n",
       "      <td>1</td>\n",
       "      <td>1</td>\n",
       "      <td>Futrelle, Mrs. Jacques Heath (Lily May Peel)</td>\n",
       "      <td>female</td>\n",
       "      <td>35.0</td>\n",
       "      <td>1</td>\n",
       "      <td>0</td>\n",
       "      <td>113803</td>\n",
       "      <td>53.1000</td>\n",
       "      <td>C123</td>\n",
       "      <td>S</td>\n",
       "    </tr>\n",
       "    <tr>\n",
       "      <th>5</th>\n",
       "      <td>0</td>\n",
       "      <td>3</td>\n",
       "      <td>Allen, Mr. William Henry</td>\n",
       "      <td>male</td>\n",
       "      <td>35.0</td>\n",
       "      <td>0</td>\n",
       "      <td>0</td>\n",
       "      <td>373450</td>\n",
       "      <td>8.0500</td>\n",
       "      <td>NaN</td>\n",
       "      <td>S</td>\n",
       "    </tr>\n",
       "  </tbody>\n",
       "</table>\n",
       "</div>"
      ],
      "text/plain": [
       "             Survived  Pclass  \\\n",
       "PassengerId                     \n",
       "1                   0       3   \n",
       "2                   1       1   \n",
       "3                   1       3   \n",
       "4                   1       1   \n",
       "5                   0       3   \n",
       "\n",
       "                                                          Name     Sex   Age  \\\n",
       "PassengerId                                                                    \n",
       "1                                      Braund, Mr. Owen Harris    male  22.0   \n",
       "2            Cumings, Mrs. John Bradley (Florence Briggs Th...  female  38.0   \n",
       "3                                       Heikkinen, Miss. Laina  female  26.0   \n",
       "4                 Futrelle, Mrs. Jacques Heath (Lily May Peel)  female  35.0   \n",
       "5                                     Allen, Mr. William Henry    male  35.0   \n",
       "\n",
       "             SibSp  Parch            Ticket     Fare Cabin Embarked  \n",
       "PassengerId                                                          \n",
       "1                1      0         A/5 21171   7.2500   NaN        S  \n",
       "2                1      0          PC 17599  71.2833   C85        C  \n",
       "3                0      0  STON/O2. 3101282   7.9250   NaN        S  \n",
       "4                1      0            113803  53.1000  C123        S  \n",
       "5                0      0            373450   8.0500   NaN        S  "
      ]
     },
     "execution_count": 4,
     "metadata": {},
     "output_type": "execute_result"
    }
   ],
   "source": [
    "# inplace = True (overwrting the existing dataframe)\n",
    "df1.set_index('PassengerId', inplace=True)\n",
    "df1.head()"
   ]
  },
  {
   "cell_type": "code",
   "execution_count": 5,
   "metadata": {},
   "outputs": [
    {
     "data": {
      "text/plain": [
       "(891, 11)"
      ]
     },
     "execution_count": 5,
     "metadata": {},
     "output_type": "execute_result"
    }
   ],
   "source": [
    "df1.shape"
   ]
  },
  {
   "cell_type": "code",
   "execution_count": 6,
   "metadata": {},
   "outputs": [
    {
     "data": {
      "text/plain": [
       "Survived      int64\n",
       "Pclass        int64\n",
       "Name         object\n",
       "Sex          object\n",
       "Age         float64\n",
       "SibSp         int64\n",
       "Parch         int64\n",
       "Ticket       object\n",
       "Fare        float64\n",
       "Cabin        object\n",
       "Embarked     object\n",
       "dtype: object"
      ]
     },
     "execution_count": 6,
     "metadata": {},
     "output_type": "execute_result"
    }
   ],
   "source": [
    "df1.dtypes"
   ]
  },
  {
   "cell_type": "code",
   "execution_count": 7,
   "metadata": {},
   "outputs": [
    {
     "data": {
      "text/plain": [
       "Survived    891\n",
       "Pclass      891\n",
       "Name        891\n",
       "Sex         891\n",
       "Age         714\n",
       "SibSp       891\n",
       "Parch       891\n",
       "Ticket      891\n",
       "Fare        891\n",
       "Cabin       204\n",
       "Embarked    889\n",
       "dtype: int64"
      ]
     },
     "execution_count": 7,
     "metadata": {},
     "output_type": "execute_result"
    }
   ],
   "source": [
    "df1.count()"
   ]
  },
  {
   "cell_type": "code",
   "execution_count": 8,
   "metadata": {},
   "outputs": [
    {
     "data": {
      "text/plain": [
       "Survived      0\n",
       "Pclass        0\n",
       "Name          0\n",
       "Sex           0\n",
       "Age         177\n",
       "SibSp         0\n",
       "Parch         0\n",
       "Ticket        0\n",
       "Fare          0\n",
       "Cabin       687\n",
       "Embarked      2\n",
       "dtype: int64"
      ]
     },
     "execution_count": 8,
     "metadata": {},
     "output_type": "execute_result"
    }
   ],
   "source": [
    "df1.isnull().sum()"
   ]
  },
  {
   "cell_type": "code",
   "execution_count": 9,
   "metadata": {},
   "outputs": [
    {
     "data": {
      "text/html": [
       "<div>\n",
       "<style scoped>\n",
       "    .dataframe tbody tr th:only-of-type {\n",
       "        vertical-align: middle;\n",
       "    }\n",
       "\n",
       "    .dataframe tbody tr th {\n",
       "        vertical-align: top;\n",
       "    }\n",
       "\n",
       "    .dataframe thead th {\n",
       "        text-align: right;\n",
       "    }\n",
       "</style>\n",
       "<table border=\"1\" class=\"dataframe\">\n",
       "  <thead>\n",
       "    <tr style=\"text-align: right;\">\n",
       "      <th></th>\n",
       "      <th>Survived</th>\n",
       "      <th>Pclass</th>\n",
       "      <th>Age</th>\n",
       "      <th>SibSp</th>\n",
       "      <th>Parch</th>\n",
       "      <th>Fare</th>\n",
       "    </tr>\n",
       "  </thead>\n",
       "  <tbody>\n",
       "    <tr>\n",
       "      <th>count</th>\n",
       "      <td>891.000000</td>\n",
       "      <td>891.000000</td>\n",
       "      <td>714.000000</td>\n",
       "      <td>891.000000</td>\n",
       "      <td>891.000000</td>\n",
       "      <td>891.000000</td>\n",
       "    </tr>\n",
       "    <tr>\n",
       "      <th>mean</th>\n",
       "      <td>0.383838</td>\n",
       "      <td>2.308642</td>\n",
       "      <td>29.699118</td>\n",
       "      <td>0.523008</td>\n",
       "      <td>0.381594</td>\n",
       "      <td>32.204208</td>\n",
       "    </tr>\n",
       "    <tr>\n",
       "      <th>std</th>\n",
       "      <td>0.486592</td>\n",
       "      <td>0.836071</td>\n",
       "      <td>14.526497</td>\n",
       "      <td>1.102743</td>\n",
       "      <td>0.806057</td>\n",
       "      <td>49.693429</td>\n",
       "    </tr>\n",
       "    <tr>\n",
       "      <th>min</th>\n",
       "      <td>0.000000</td>\n",
       "      <td>1.000000</td>\n",
       "      <td>0.420000</td>\n",
       "      <td>0.000000</td>\n",
       "      <td>0.000000</td>\n",
       "      <td>0.000000</td>\n",
       "    </tr>\n",
       "    <tr>\n",
       "      <th>25%</th>\n",
       "      <td>0.000000</td>\n",
       "      <td>2.000000</td>\n",
       "      <td>20.125000</td>\n",
       "      <td>0.000000</td>\n",
       "      <td>0.000000</td>\n",
       "      <td>7.910400</td>\n",
       "    </tr>\n",
       "    <tr>\n",
       "      <th>50%</th>\n",
       "      <td>0.000000</td>\n",
       "      <td>3.000000</td>\n",
       "      <td>28.000000</td>\n",
       "      <td>0.000000</td>\n",
       "      <td>0.000000</td>\n",
       "      <td>14.454200</td>\n",
       "    </tr>\n",
       "    <tr>\n",
       "      <th>75%</th>\n",
       "      <td>1.000000</td>\n",
       "      <td>3.000000</td>\n",
       "      <td>38.000000</td>\n",
       "      <td>1.000000</td>\n",
       "      <td>0.000000</td>\n",
       "      <td>31.000000</td>\n",
       "    </tr>\n",
       "    <tr>\n",
       "      <th>max</th>\n",
       "      <td>1.000000</td>\n",
       "      <td>3.000000</td>\n",
       "      <td>80.000000</td>\n",
       "      <td>8.000000</td>\n",
       "      <td>6.000000</td>\n",
       "      <td>512.329200</td>\n",
       "    </tr>\n",
       "  </tbody>\n",
       "</table>\n",
       "</div>"
      ],
      "text/plain": [
       "         Survived      Pclass         Age       SibSp       Parch        Fare\n",
       "count  891.000000  891.000000  714.000000  891.000000  891.000000  891.000000\n",
       "mean     0.383838    2.308642   29.699118    0.523008    0.381594   32.204208\n",
       "std      0.486592    0.836071   14.526497    1.102743    0.806057   49.693429\n",
       "min      0.000000    1.000000    0.420000    0.000000    0.000000    0.000000\n",
       "25%      0.000000    2.000000   20.125000    0.000000    0.000000    7.910400\n",
       "50%      0.000000    3.000000   28.000000    0.000000    0.000000   14.454200\n",
       "75%      1.000000    3.000000   38.000000    1.000000    0.000000   31.000000\n",
       "max      1.000000    3.000000   80.000000    8.000000    6.000000  512.329200"
      ]
     },
     "execution_count": 9,
     "metadata": {},
     "output_type": "execute_result"
    }
   ],
   "source": [
    "df1.describe()"
   ]
  },
  {
   "cell_type": "code",
   "execution_count": 10,
   "metadata": {},
   "outputs": [
    {
     "data": {
      "text/html": [
       "<div>\n",
       "<style scoped>\n",
       "    .dataframe tbody tr th:only-of-type {\n",
       "        vertical-align: middle;\n",
       "    }\n",
       "\n",
       "    .dataframe tbody tr th {\n",
       "        vertical-align: top;\n",
       "    }\n",
       "\n",
       "    .dataframe thead th {\n",
       "        text-align: right;\n",
       "    }\n",
       "</style>\n",
       "<table border=\"1\" class=\"dataframe\">\n",
       "  <thead>\n",
       "    <tr style=\"text-align: right;\">\n",
       "      <th></th>\n",
       "      <th>Survived</th>\n",
       "      <th>Pclass</th>\n",
       "      <th>Age</th>\n",
       "      <th>SibSp</th>\n",
       "      <th>Parch</th>\n",
       "      <th>Fare</th>\n",
       "    </tr>\n",
       "  </thead>\n",
       "  <tbody>\n",
       "    <tr>\n",
       "      <th>Survived</th>\n",
       "      <td>1.000000</td>\n",
       "      <td>-0.338481</td>\n",
       "      <td>-0.077221</td>\n",
       "      <td>-0.035322</td>\n",
       "      <td>0.081629</td>\n",
       "      <td>0.257307</td>\n",
       "    </tr>\n",
       "    <tr>\n",
       "      <th>Pclass</th>\n",
       "      <td>-0.338481</td>\n",
       "      <td>1.000000</td>\n",
       "      <td>-0.369226</td>\n",
       "      <td>0.083081</td>\n",
       "      <td>0.018443</td>\n",
       "      <td>-0.549500</td>\n",
       "    </tr>\n",
       "    <tr>\n",
       "      <th>Age</th>\n",
       "      <td>-0.077221</td>\n",
       "      <td>-0.369226</td>\n",
       "      <td>1.000000</td>\n",
       "      <td>-0.308247</td>\n",
       "      <td>-0.189119</td>\n",
       "      <td>0.096067</td>\n",
       "    </tr>\n",
       "    <tr>\n",
       "      <th>SibSp</th>\n",
       "      <td>-0.035322</td>\n",
       "      <td>0.083081</td>\n",
       "      <td>-0.308247</td>\n",
       "      <td>1.000000</td>\n",
       "      <td>0.414838</td>\n",
       "      <td>0.159651</td>\n",
       "    </tr>\n",
       "    <tr>\n",
       "      <th>Parch</th>\n",
       "      <td>0.081629</td>\n",
       "      <td>0.018443</td>\n",
       "      <td>-0.189119</td>\n",
       "      <td>0.414838</td>\n",
       "      <td>1.000000</td>\n",
       "      <td>0.216225</td>\n",
       "    </tr>\n",
       "    <tr>\n",
       "      <th>Fare</th>\n",
       "      <td>0.257307</td>\n",
       "      <td>-0.549500</td>\n",
       "      <td>0.096067</td>\n",
       "      <td>0.159651</td>\n",
       "      <td>0.216225</td>\n",
       "      <td>1.000000</td>\n",
       "    </tr>\n",
       "  </tbody>\n",
       "</table>\n",
       "</div>"
      ],
      "text/plain": [
       "          Survived    Pclass       Age     SibSp     Parch      Fare\n",
       "Survived  1.000000 -0.338481 -0.077221 -0.035322  0.081629  0.257307\n",
       "Pclass   -0.338481  1.000000 -0.369226  0.083081  0.018443 -0.549500\n",
       "Age      -0.077221 -0.369226  1.000000 -0.308247 -0.189119  0.096067\n",
       "SibSp    -0.035322  0.083081 -0.308247  1.000000  0.414838  0.159651\n",
       "Parch     0.081629  0.018443 -0.189119  0.414838  1.000000  0.216225\n",
       "Fare      0.257307 -0.549500  0.096067  0.159651  0.216225  1.000000"
      ]
     },
     "execution_count": 10,
     "metadata": {},
     "output_type": "execute_result"
    }
   ],
   "source": [
    "df1.corr()"
   ]
  },
  {
   "cell_type": "code",
   "execution_count": 11,
   "metadata": {},
   "outputs": [
    {
     "name": "stdout",
     "output_type": "stream",
     "text": [
      "<class 'pandas.core.frame.DataFrame'>\n",
      "Int64Index: 891 entries, 1 to 891\n",
      "Data columns (total 11 columns):\n",
      " #   Column    Non-Null Count  Dtype  \n",
      "---  ------    --------------  -----  \n",
      " 0   Survived  891 non-null    int64  \n",
      " 1   Pclass    891 non-null    int64  \n",
      " 2   Name      891 non-null    object \n",
      " 3   Sex       891 non-null    object \n",
      " 4   Age       714 non-null    float64\n",
      " 5   SibSp     891 non-null    int64  \n",
      " 6   Parch     891 non-null    int64  \n",
      " 7   Ticket    891 non-null    object \n",
      " 8   Fare      891 non-null    float64\n",
      " 9   Cabin     204 non-null    object \n",
      " 10  Embarked  889 non-null    object \n",
      "dtypes: float64(2), int64(4), object(5)\n",
      "memory usage: 83.5+ KB\n"
     ]
    }
   ],
   "source": [
    "df1.info()"
   ]
  },
  {
   "cell_type": "markdown",
   "metadata": {},
   "source": [
    "## Replacing Null Values"
   ]
  },
  {
   "cell_type": "code",
   "execution_count": 12,
   "metadata": {},
   "outputs": [],
   "source": [
    "# replacing null values\n",
    "median_age = df1['Age'].median()\n",
    "df1['Age'].fillna(value = median_age, inplace = True)"
   ]
  },
  {
   "cell_type": "code",
   "execution_count": 13,
   "metadata": {},
   "outputs": [
    {
     "data": {
      "text/plain": [
       "C23 C25 C27    4\n",
       "G6             4\n",
       "B96 B98        4\n",
       "D              3\n",
       "F2             3\n",
       "              ..\n",
       "B78            1\n",
       "A14            1\n",
       "C128           1\n",
       "D6             1\n",
       "B4             1\n",
       "Name: Cabin, Length: 147, dtype: int64"
      ]
     },
     "execution_count": 13,
     "metadata": {},
     "output_type": "execute_result"
    }
   ],
   "source": [
    "df1['Cabin'].value_counts()"
   ]
  },
  {
   "cell_type": "code",
   "execution_count": 14,
   "metadata": {},
   "outputs": [
    {
     "name": "stdout",
     "output_type": "stream",
     "text": [
      "['C23 C25 C27', 'G6', 'B96 B98', 'D', 'F2']\n"
     ]
    }
   ],
   "source": [
    "cabmost = df1['Cabin'].value_counts()[:5].index.tolist()\n",
    "print(cabmost)\n",
    "df1['Cabin'].fillna(value = 'U', inplace = True)"
   ]
  },
  {
   "cell_type": "code",
   "execution_count": 15,
   "metadata": {},
   "outputs": [
    {
     "data": {
      "text/plain": [
       "array(['S', 'C', 'Q', nan], dtype=object)"
      ]
     },
     "execution_count": 15,
     "metadata": {},
     "output_type": "execute_result"
    }
   ],
   "source": [
    "df1['Embarked'].unique()"
   ]
  },
  {
   "cell_type": "code",
   "execution_count": 16,
   "metadata": {},
   "outputs": [
    {
     "data": {
      "text/plain": [
       "S    644\n",
       "C    168\n",
       "Q     77\n",
       "Name: Embarked, dtype: int64"
      ]
     },
     "execution_count": 16,
     "metadata": {},
     "output_type": "execute_result"
    }
   ],
   "source": [
    "df1['Embarked'].value_counts()"
   ]
  },
  {
   "cell_type": "code",
   "execution_count": 17,
   "metadata": {},
   "outputs": [],
   "source": [
    "df1.fillna(value = 'S', inplace = True)"
   ]
  },
  {
   "cell_type": "code",
   "execution_count": 18,
   "metadata": {},
   "outputs": [
    {
     "data": {
      "text/plain": [
       "Survived    0\n",
       "Pclass      0\n",
       "Name        0\n",
       "Sex         0\n",
       "Age         0\n",
       "SibSp       0\n",
       "Parch       0\n",
       "Ticket      0\n",
       "Fare        0\n",
       "Cabin       0\n",
       "Embarked    0\n",
       "dtype: int64"
      ]
     },
     "execution_count": 18,
     "metadata": {},
     "output_type": "execute_result"
    }
   ],
   "source": [
    "df1.isnull().sum()"
   ]
  },
  {
   "cell_type": "markdown",
   "metadata": {},
   "source": [
    "## Feature Engineering"
   ]
  },
  {
   "cell_type": "code",
   "execution_count": 19,
   "metadata": {},
   "outputs": [
    {
     "name": "stdout",
     "output_type": "stream",
     "text": [
      "<class 'pandas.core.frame.DataFrame'>\n",
      "Int64Index: 891 entries, 1 to 891\n",
      "Data columns (total 11 columns):\n",
      " #   Column    Non-Null Count  Dtype  \n",
      "---  ------    --------------  -----  \n",
      " 0   Survived  891 non-null    int64  \n",
      " 1   Pclass    891 non-null    int64  \n",
      " 2   Name      891 non-null    object \n",
      " 3   Sex       891 non-null    object \n",
      " 4   Age       891 non-null    float64\n",
      " 5   SibSp     891 non-null    int64  \n",
      " 6   Parch     891 non-null    int64  \n",
      " 7   Ticket    891 non-null    object \n",
      " 8   Fare      891 non-null    float64\n",
      " 9   Cabin     891 non-null    object \n",
      " 10  Embarked  891 non-null    object \n",
      "dtypes: float64(2), int64(4), object(5)\n",
      "memory usage: 83.5+ KB\n"
     ]
    }
   ],
   "source": [
    "df1.info()"
   ]
  },
  {
   "cell_type": "code",
   "execution_count": 20,
   "metadata": {},
   "outputs": [
    {
     "data": {
      "text/plain": [
       "Survived      int64\n",
       "Pclass        int64\n",
       "Name         object\n",
       "Sex          object\n",
       "Age         float64\n",
       "SibSp         int64\n",
       "Parch         int64\n",
       "Ticket       object\n",
       "Fare        float64\n",
       "Cabin        object\n",
       "Embarked     object\n",
       "dtype: object"
      ]
     },
     "execution_count": 20,
     "metadata": {},
     "output_type": "execute_result"
    }
   ],
   "source": [
    "df1.dtypes"
   ]
  },
  {
   "cell_type": "code",
   "execution_count": 21,
   "metadata": {},
   "outputs": [
    {
     "data": {
      "text/html": [
       "<div>\n",
       "<style scoped>\n",
       "    .dataframe tbody tr th:only-of-type {\n",
       "        vertical-align: middle;\n",
       "    }\n",
       "\n",
       "    .dataframe tbody tr th {\n",
       "        vertical-align: top;\n",
       "    }\n",
       "\n",
       "    .dataframe thead th {\n",
       "        text-align: right;\n",
       "    }\n",
       "</style>\n",
       "<table border=\"1\" class=\"dataframe\">\n",
       "  <thead>\n",
       "    <tr style=\"text-align: right;\">\n",
       "      <th></th>\n",
       "      <th>Survived</th>\n",
       "      <th>Pclass</th>\n",
       "      <th>Age</th>\n",
       "      <th>SibSp</th>\n",
       "      <th>Parch</th>\n",
       "      <th>Fare</th>\n",
       "    </tr>\n",
       "    <tr>\n",
       "      <th>PassengerId</th>\n",
       "      <th></th>\n",
       "      <th></th>\n",
       "      <th></th>\n",
       "      <th></th>\n",
       "      <th></th>\n",
       "      <th></th>\n",
       "    </tr>\n",
       "  </thead>\n",
       "  <tbody>\n",
       "    <tr>\n",
       "      <th>1</th>\n",
       "      <td>0</td>\n",
       "      <td>3</td>\n",
       "      <td>22.0</td>\n",
       "      <td>1</td>\n",
       "      <td>0</td>\n",
       "      <td>7.2500</td>\n",
       "    </tr>\n",
       "    <tr>\n",
       "      <th>2</th>\n",
       "      <td>1</td>\n",
       "      <td>1</td>\n",
       "      <td>38.0</td>\n",
       "      <td>1</td>\n",
       "      <td>0</td>\n",
       "      <td>71.2833</td>\n",
       "    </tr>\n",
       "    <tr>\n",
       "      <th>3</th>\n",
       "      <td>1</td>\n",
       "      <td>3</td>\n",
       "      <td>26.0</td>\n",
       "      <td>0</td>\n",
       "      <td>0</td>\n",
       "      <td>7.9250</td>\n",
       "    </tr>\n",
       "    <tr>\n",
       "      <th>4</th>\n",
       "      <td>1</td>\n",
       "      <td>1</td>\n",
       "      <td>35.0</td>\n",
       "      <td>1</td>\n",
       "      <td>0</td>\n",
       "      <td>53.1000</td>\n",
       "    </tr>\n",
       "    <tr>\n",
       "      <th>5</th>\n",
       "      <td>0</td>\n",
       "      <td>3</td>\n",
       "      <td>35.0</td>\n",
       "      <td>0</td>\n",
       "      <td>0</td>\n",
       "      <td>8.0500</td>\n",
       "    </tr>\n",
       "    <tr>\n",
       "      <th>...</th>\n",
       "      <td>...</td>\n",
       "      <td>...</td>\n",
       "      <td>...</td>\n",
       "      <td>...</td>\n",
       "      <td>...</td>\n",
       "      <td>...</td>\n",
       "    </tr>\n",
       "    <tr>\n",
       "      <th>887</th>\n",
       "      <td>0</td>\n",
       "      <td>2</td>\n",
       "      <td>27.0</td>\n",
       "      <td>0</td>\n",
       "      <td>0</td>\n",
       "      <td>13.0000</td>\n",
       "    </tr>\n",
       "    <tr>\n",
       "      <th>888</th>\n",
       "      <td>1</td>\n",
       "      <td>1</td>\n",
       "      <td>19.0</td>\n",
       "      <td>0</td>\n",
       "      <td>0</td>\n",
       "      <td>30.0000</td>\n",
       "    </tr>\n",
       "    <tr>\n",
       "      <th>889</th>\n",
       "      <td>0</td>\n",
       "      <td>3</td>\n",
       "      <td>28.0</td>\n",
       "      <td>1</td>\n",
       "      <td>2</td>\n",
       "      <td>23.4500</td>\n",
       "    </tr>\n",
       "    <tr>\n",
       "      <th>890</th>\n",
       "      <td>1</td>\n",
       "      <td>1</td>\n",
       "      <td>26.0</td>\n",
       "      <td>0</td>\n",
       "      <td>0</td>\n",
       "      <td>30.0000</td>\n",
       "    </tr>\n",
       "    <tr>\n",
       "      <th>891</th>\n",
       "      <td>0</td>\n",
       "      <td>3</td>\n",
       "      <td>32.0</td>\n",
       "      <td>0</td>\n",
       "      <td>0</td>\n",
       "      <td>7.7500</td>\n",
       "    </tr>\n",
       "  </tbody>\n",
       "</table>\n",
       "<p>891 rows × 6 columns</p>\n",
       "</div>"
      ],
      "text/plain": [
       "             Survived  Pclass   Age  SibSp  Parch     Fare\n",
       "PassengerId                                               \n",
       "1                   0       3  22.0      1      0   7.2500\n",
       "2                   1       1  38.0      1      0  71.2833\n",
       "3                   1       3  26.0      0      0   7.9250\n",
       "4                   1       1  35.0      1      0  53.1000\n",
       "5                   0       3  35.0      0      0   8.0500\n",
       "...               ...     ...   ...    ...    ...      ...\n",
       "887                 0       2  27.0      0      0  13.0000\n",
       "888                 1       1  19.0      0      0  30.0000\n",
       "889                 0       3  28.0      1      2  23.4500\n",
       "890                 1       1  26.0      0      0  30.0000\n",
       "891                 0       3  32.0      0      0   7.7500\n",
       "\n",
       "[891 rows x 6 columns]"
      ]
     },
     "execution_count": 21,
     "metadata": {},
     "output_type": "execute_result"
    }
   ],
   "source": [
    "df1.select_dtypes(include = np.number)"
   ]
  },
  {
   "cell_type": "code",
   "execution_count": 22,
   "metadata": {},
   "outputs": [
    {
     "data": {
      "text/html": [
       "<div>\n",
       "<style scoped>\n",
       "    .dataframe tbody tr th:only-of-type {\n",
       "        vertical-align: middle;\n",
       "    }\n",
       "\n",
       "    .dataframe tbody tr th {\n",
       "        vertical-align: top;\n",
       "    }\n",
       "\n",
       "    .dataframe thead th {\n",
       "        text-align: right;\n",
       "    }\n",
       "</style>\n",
       "<table border=\"1\" class=\"dataframe\">\n",
       "  <thead>\n",
       "    <tr style=\"text-align: right;\">\n",
       "      <th></th>\n",
       "      <th>Name</th>\n",
       "      <th>Sex</th>\n",
       "      <th>Ticket</th>\n",
       "      <th>Cabin</th>\n",
       "      <th>Embarked</th>\n",
       "    </tr>\n",
       "    <tr>\n",
       "      <th>PassengerId</th>\n",
       "      <th></th>\n",
       "      <th></th>\n",
       "      <th></th>\n",
       "      <th></th>\n",
       "      <th></th>\n",
       "    </tr>\n",
       "  </thead>\n",
       "  <tbody>\n",
       "    <tr>\n",
       "      <th>1</th>\n",
       "      <td>Braund, Mr. Owen Harris</td>\n",
       "      <td>male</td>\n",
       "      <td>A/5 21171</td>\n",
       "      <td>U</td>\n",
       "      <td>S</td>\n",
       "    </tr>\n",
       "    <tr>\n",
       "      <th>2</th>\n",
       "      <td>Cumings, Mrs. John Bradley (Florence Briggs Th...</td>\n",
       "      <td>female</td>\n",
       "      <td>PC 17599</td>\n",
       "      <td>C85</td>\n",
       "      <td>C</td>\n",
       "    </tr>\n",
       "    <tr>\n",
       "      <th>3</th>\n",
       "      <td>Heikkinen, Miss. Laina</td>\n",
       "      <td>female</td>\n",
       "      <td>STON/O2. 3101282</td>\n",
       "      <td>U</td>\n",
       "      <td>S</td>\n",
       "    </tr>\n",
       "    <tr>\n",
       "      <th>4</th>\n",
       "      <td>Futrelle, Mrs. Jacques Heath (Lily May Peel)</td>\n",
       "      <td>female</td>\n",
       "      <td>113803</td>\n",
       "      <td>C123</td>\n",
       "      <td>S</td>\n",
       "    </tr>\n",
       "    <tr>\n",
       "      <th>5</th>\n",
       "      <td>Allen, Mr. William Henry</td>\n",
       "      <td>male</td>\n",
       "      <td>373450</td>\n",
       "      <td>U</td>\n",
       "      <td>S</td>\n",
       "    </tr>\n",
       "    <tr>\n",
       "      <th>...</th>\n",
       "      <td>...</td>\n",
       "      <td>...</td>\n",
       "      <td>...</td>\n",
       "      <td>...</td>\n",
       "      <td>...</td>\n",
       "    </tr>\n",
       "    <tr>\n",
       "      <th>887</th>\n",
       "      <td>Montvila, Rev. Juozas</td>\n",
       "      <td>male</td>\n",
       "      <td>211536</td>\n",
       "      <td>U</td>\n",
       "      <td>S</td>\n",
       "    </tr>\n",
       "    <tr>\n",
       "      <th>888</th>\n",
       "      <td>Graham, Miss. Margaret Edith</td>\n",
       "      <td>female</td>\n",
       "      <td>112053</td>\n",
       "      <td>B42</td>\n",
       "      <td>S</td>\n",
       "    </tr>\n",
       "    <tr>\n",
       "      <th>889</th>\n",
       "      <td>Johnston, Miss. Catherine Helen \"Carrie\"</td>\n",
       "      <td>female</td>\n",
       "      <td>W./C. 6607</td>\n",
       "      <td>U</td>\n",
       "      <td>S</td>\n",
       "    </tr>\n",
       "    <tr>\n",
       "      <th>890</th>\n",
       "      <td>Behr, Mr. Karl Howell</td>\n",
       "      <td>male</td>\n",
       "      <td>111369</td>\n",
       "      <td>C148</td>\n",
       "      <td>C</td>\n",
       "    </tr>\n",
       "    <tr>\n",
       "      <th>891</th>\n",
       "      <td>Dooley, Mr. Patrick</td>\n",
       "      <td>male</td>\n",
       "      <td>370376</td>\n",
       "      <td>U</td>\n",
       "      <td>Q</td>\n",
       "    </tr>\n",
       "  </tbody>\n",
       "</table>\n",
       "<p>891 rows × 5 columns</p>\n",
       "</div>"
      ],
      "text/plain": [
       "                                                          Name     Sex  \\\n",
       "PassengerId                                                              \n",
       "1                                      Braund, Mr. Owen Harris    male   \n",
       "2            Cumings, Mrs. John Bradley (Florence Briggs Th...  female   \n",
       "3                                       Heikkinen, Miss. Laina  female   \n",
       "4                 Futrelle, Mrs. Jacques Heath (Lily May Peel)  female   \n",
       "5                                     Allen, Mr. William Henry    male   \n",
       "...                                                        ...     ...   \n",
       "887                                      Montvila, Rev. Juozas    male   \n",
       "888                               Graham, Miss. Margaret Edith  female   \n",
       "889                   Johnston, Miss. Catherine Helen \"Carrie\"  female   \n",
       "890                                      Behr, Mr. Karl Howell    male   \n",
       "891                                        Dooley, Mr. Patrick    male   \n",
       "\n",
       "                       Ticket Cabin Embarked  \n",
       "PassengerId                                   \n",
       "1                   A/5 21171     U        S  \n",
       "2                    PC 17599   C85        C  \n",
       "3            STON/O2. 3101282     U        S  \n",
       "4                      113803  C123        S  \n",
       "5                      373450     U        S  \n",
       "...                       ...   ...      ...  \n",
       "887                    211536     U        S  \n",
       "888                    112053   B42        S  \n",
       "889                W./C. 6607     U        S  \n",
       "890                    111369  C148        C  \n",
       "891                    370376     U        Q  \n",
       "\n",
       "[891 rows x 5 columns]"
      ]
     },
     "execution_count": 22,
     "metadata": {},
     "output_type": "execute_result"
    }
   ],
   "source": [
    "df1.select_dtypes(include = np.object)"
   ]
  },
  {
   "cell_type": "code",
   "execution_count": 23,
   "metadata": {},
   "outputs": [
    {
     "data": {
      "text/plain": [
       "male      577\n",
       "female    314\n",
       "Name: Sex, dtype: int64"
      ]
     },
     "execution_count": 23,
     "metadata": {},
     "output_type": "execute_result"
    }
   ],
   "source": [
    "df1['Sex'].value_counts()"
   ]
  },
  {
   "cell_type": "code",
   "execution_count": 24,
   "metadata": {},
   "outputs": [
    {
     "data": {
      "text/plain": [
       "0    577\n",
       "1    314\n",
       "Name: Sex, dtype: int64"
      ]
     },
     "execution_count": 24,
     "metadata": {},
     "output_type": "execute_result"
    }
   ],
   "source": [
    "df1['Sex'].replace(['male','female'], [0,1], inplace = True)\n",
    "df1['Sex'].value_counts()"
   ]
  },
  {
   "cell_type": "code",
   "execution_count": 25,
   "metadata": {},
   "outputs": [
    {
     "name": "stdout",
     "output_type": "stream",
     "text": [
      "<class 'pandas.core.frame.DataFrame'>\n",
      "Int64Index: 891 entries, 1 to 891\n",
      "Data columns (total 11 columns):\n",
      " #   Column    Non-Null Count  Dtype  \n",
      "---  ------    --------------  -----  \n",
      " 0   Survived  891 non-null    int64  \n",
      " 1   Pclass    891 non-null    int64  \n",
      " 2   Name      891 non-null    object \n",
      " 3   Sex       891 non-null    int64  \n",
      " 4   Age       891 non-null    float64\n",
      " 5   SibSp     891 non-null    int64  \n",
      " 6   Parch     891 non-null    int64  \n",
      " 7   Ticket    891 non-null    object \n",
      " 8   Fare      891 non-null    float64\n",
      " 9   Cabin     891 non-null    object \n",
      " 10  Embarked  891 non-null    object \n",
      "dtypes: float64(2), int64(5), object(4)\n",
      "memory usage: 83.5+ KB\n"
     ]
    }
   ],
   "source": [
    "df1.info()"
   ]
  },
  {
   "cell_type": "code",
   "execution_count": 26,
   "metadata": {},
   "outputs": [
    {
     "data": {
      "text/plain": [
       "array(['U', 'C85', 'C123', 'E46', 'G6', 'C103', 'D56', 'A6',\n",
       "       'C23 C25 C27', 'B78', 'D33', 'B30', 'C52', 'B28', 'C83', 'F33',\n",
       "       'F G73', 'E31', 'A5', 'D10 D12', 'D26', 'C110', 'B58 B60', 'E101',\n",
       "       'F E69', 'D47', 'B86', 'F2', 'C2', 'E33', 'B19', 'A7', 'C49', 'F4',\n",
       "       'A32', 'B4', 'B80', 'A31', 'D36', 'D15', 'C93', 'C78', 'D35',\n",
       "       'C87', 'B77', 'E67', 'B94', 'C125', 'C99', 'C118', 'D7', 'A19',\n",
       "       'B49', 'D', 'C22 C26', 'C106', 'C65', 'E36', 'C54',\n",
       "       'B57 B59 B63 B66', 'C7', 'E34', 'C32', 'B18', 'C124', 'C91', 'E40',\n",
       "       'T', 'C128', 'D37', 'B35', 'E50', 'C82', 'B96 B98', 'E10', 'E44',\n",
       "       'A34', 'C104', 'C111', 'C92', 'E38', 'D21', 'E12', 'E63', 'A14',\n",
       "       'B37', 'C30', 'D20', 'B79', 'E25', 'D46', 'B73', 'C95', 'B38',\n",
       "       'B39', 'B22', 'C86', 'C70', 'A16', 'C101', 'C68', 'A10', 'E68',\n",
       "       'B41', 'A20', 'D19', 'D50', 'D9', 'A23', 'B50', 'A26', 'D48',\n",
       "       'E58', 'C126', 'B71', 'B51 B53 B55', 'D49', 'B5', 'B20', 'F G63',\n",
       "       'C62 C64', 'E24', 'C90', 'C45', 'E8', 'B101', 'D45', 'C46', 'D30',\n",
       "       'E121', 'D11', 'E77', 'F38', 'B3', 'D6', 'B82 B84', 'D17', 'A36',\n",
       "       'B102', 'B69', 'E49', 'C47', 'D28', 'E17', 'A24', 'C50', 'B42',\n",
       "       'C148'], dtype=object)"
      ]
     },
     "execution_count": 26,
     "metadata": {},
     "output_type": "execute_result"
    }
   ],
   "source": [
    "df1['Cabin'].unique()"
   ]
  },
  {
   "cell_type": "code",
   "execution_count": 27,
   "metadata": {},
   "outputs": [
    {
     "name": "stdout",
     "output_type": "stream",
     "text": [
      "['U', 'C85', 'U', 'C123', 'U', 'U', 'E46', 'U', 'U', 'U', 'G6', 'C103', 'U', 'U', 'U', 'U', 'U', 'U', 'U', 'U', 'U', 'D56', 'U', 'A6', 'U', 'U', 'U', 'C23 C25 C27', 'U', 'U', 'U', 'B78', 'U', 'U', 'U', 'U', 'U', 'U', 'U', 'U', 'U', 'U', 'U', 'U', 'U', 'U', 'U', 'U', 'U', 'U', 'U', 'U', 'D33', 'U', 'B30', 'C52', 'U', 'U', 'U', 'U', 'U', 'B28', 'C83', 'U', 'U', 'U', 'F33', 'U', 'U', 'U', 'U', 'U', 'U', 'U', 'U', 'F G73', 'U', 'U', 'U', 'U', 'U', 'U', 'U', 'U', 'U', 'U', 'U', 'U', 'C23 C25 C27', 'U', 'U', 'U', 'E31', 'U', 'U', 'U', 'A5', 'D10 D12', 'U', 'U', 'U', 'U', 'D26', 'U', 'U', 'U', 'U', 'U', 'U', 'U', 'C110', 'U', 'U', 'U', 'U', 'U', 'U', 'U', 'B58 B60', 'U', 'U', 'U', 'U', 'E101', 'D26', 'U', 'U', 'U', 'F E69', 'U', 'U', 'U', 'U', 'U', 'U', 'U', 'D47', 'C123', 'U', 'B86', 'U', 'U', 'U', 'U', 'U', 'U', 'U', 'U', 'F2', 'U', 'U', 'C2', 'U', 'U', 'U', 'U', 'U', 'U', 'U', 'U', 'U', 'U', 'U', 'U', 'U', 'U', 'E33', 'U', 'U', 'U', 'B19', 'U', 'U', 'U', 'A7', 'U', 'U', 'C49', 'U', 'U', 'U', 'U', 'U', 'F4', 'U', 'A32', 'U', 'U', 'U', 'U', 'U', 'U', 'U', 'F2', 'B4', 'B80', 'U', 'U', 'U', 'U', 'U', 'U', 'U', 'U', 'U', 'G6', 'U', 'U', 'U', 'A31', 'U', 'U', 'U', 'U', 'U', 'D36', 'U', 'U', 'D15', 'U', 'U', 'U', 'U', 'U', 'C93', 'U', 'U', 'U', 'U', 'U', 'C83', 'U', 'U', 'U', 'U', 'U', 'U', 'U', 'U', 'U', 'U', 'U', 'U', 'U', 'U', 'C78', 'U', 'U', 'D35', 'U', 'U', 'G6', 'C87', 'U', 'U', 'U', 'U', 'B77', 'U', 'U', 'U', 'U', 'E67', 'B94', 'U', 'U', 'U', 'U', 'C125', 'C99', 'U', 'U', 'U', 'C118', 'U', 'D7', 'U', 'U', 'U', 'U', 'U', 'U', 'U', 'U', 'A19', 'U', 'U', 'U', 'U', 'U', 'U', 'B49', 'D', 'U', 'U', 'U', 'U', 'C22 C26', 'C106', 'B58 B60', 'U', 'U', 'U', 'E101', 'U', 'C22 C26', 'U', 'C65', 'U', 'E36', 'C54', 'B57 B59 B63 B66', 'U', 'U', 'U', 'U', 'U', 'U', 'C7', 'E34', 'U', 'U', 'U', 'U', 'U', 'C32', 'U', 'D', 'U', 'B18', 'U', 'C124', 'C91', 'U', 'U', 'U', 'C2', 'E40', 'U', 'T', 'F2', 'C23 C25 C27', 'U', 'U', 'U', 'F33', 'U', 'U', 'U', 'U', 'U', 'C128', 'U', 'U', 'U', 'U', 'E33', 'U', 'U', 'U', 'U', 'U', 'U', 'U', 'U', 'U', 'D37', 'U', 'U', 'B35', 'E50', 'U', 'U', 'U', 'U', 'U', 'U', 'C82', 'U', 'U', 'U', 'U', 'U', 'U', 'U', 'U', 'U', 'U', 'U', 'U', 'B96 B98', 'U', 'U', 'D36', 'G6', 'U', 'U', 'U', 'U', 'U', 'U', 'U', 'U', 'U', 'U', 'U', 'U', 'U', 'U', 'U', 'U', 'U', 'C78', 'U', 'U', 'U', 'U', 'U', 'U', 'U', 'U', 'U', 'U', 'U', 'U', 'U', 'U', 'U', 'U', 'E10', 'C52', 'U', 'U', 'U', 'E44', 'B96 B98', 'U', 'U', 'C23 C25 C27', 'U', 'U', 'U', 'U', 'U', 'U', 'A34', 'U', 'U', 'U', 'C104', 'U', 'U', 'C111', 'C92', 'U', 'U', 'E38', 'D21', 'U', 'U', 'E12', 'U', 'E63', 'U', 'U', 'U', 'U', 'U', 'U', 'U', 'U', 'U', 'U', 'D', 'U', 'A14', 'U', 'U', 'U', 'U', 'U', 'U', 'U', 'U', 'B49', 'U', 'C93', 'B37', 'U', 'U', 'U', 'U', 'C30', 'U', 'U', 'U', 'D20', 'U', 'C22 C26', 'U', 'U', 'U', 'U', 'U', 'B79', 'C65', 'U', 'U', 'U', 'U', 'U', 'U', 'E25', 'U', 'U', 'D46', 'F33', 'U', 'U', 'U', 'B73', 'U', 'U', 'B18', 'U', 'U', 'U', 'C95', 'U', 'U', 'U', 'U', 'U', 'U', 'U', 'U', 'B38', 'U', 'U', 'B39', 'B22', 'U', 'U', 'U', 'C86', 'U', 'U', 'U', 'U', 'U', 'C70', 'U', 'U', 'U', 'U', 'U', 'A16', 'U', 'E67', 'U', 'U', 'U', 'U', 'U', 'U', 'U', 'U', 'U', 'U', 'U', 'U', 'C101', 'E25', 'U', 'U', 'U', 'U', 'E44', 'U', 'U', 'U', 'C68', 'U', 'A10', 'U', 'E68', 'U', 'B41', 'U', 'U', 'U', 'D20', 'U', 'U', 'U', 'U', 'U', 'U', 'U', 'A20', 'U', 'U', 'U', 'U', 'U', 'U', 'U', 'U', 'U', 'C125', 'U', 'U', 'U', 'U', 'U', 'U', 'U', 'U', 'F4', 'U', 'U', 'D19', 'U', 'U', 'U', 'D50', 'U', 'D9', 'U', 'U', 'A23', 'U', 'B50', 'U', 'U', 'U', 'U', 'U', 'U', 'U', 'U', 'B35', 'U', 'U', 'U', 'D33', 'U', 'A26', 'U', 'U', 'U', 'U', 'U', 'U', 'U', 'U', 'U', 'U', 'U', 'D48', 'U', 'U', 'E58', 'U', 'U', 'U', 'U', 'U', 'U', 'C126', 'U', 'B71', 'U', 'U', 'U', 'U', 'U', 'U', 'U', 'B51 B53 B55', 'U', 'D49', 'U', 'U', 'U', 'U', 'U', 'U', 'U', 'B5', 'B20', 'U', 'U', 'U', 'U', 'U', 'U', 'U', 'C68', 'F G63', 'C62 C64', 'E24', 'U', 'U', 'U', 'U', 'U', 'E24', 'U', 'U', 'C90', 'C124', 'C126', 'U', 'U', 'F G73', 'C45', 'E101', 'U', 'U', 'U', 'U', 'U', 'U', 'E8', 'U', 'U', 'U', 'U', 'U', 'B5', 'U', 'U', 'U', 'U', 'U', 'U', 'B101', 'U', 'U', 'D45', 'C46', 'B57 B59 B63 B66', 'U', 'U', 'B22', 'U', 'U', 'D30', 'U', 'U', 'E121', 'U', 'U', 'U', 'U', 'U', 'U', 'U', 'B77', 'U', 'U', 'U', 'B96 B98', 'U', 'D11', 'U', 'U', 'U', 'U', 'U', 'U', 'E77', 'U', 'U', 'U', 'F38', 'U', 'U', 'B3', 'U', 'B20', 'D6', 'U', 'U', 'U', 'U', 'U', 'U', 'B82 B84', 'U', 'U', 'U', 'U', 'U', 'U', 'D17', 'U', 'U', 'U', 'U', 'U', 'B96 B98', 'U', 'U', 'U', 'A36', 'U', 'U', 'E8', 'U', 'U', 'U', 'U', 'U', 'B102', 'U', 'U', 'U', 'U', 'B69', 'U', 'U', 'E121', 'U', 'U', 'U', 'U', 'U', 'B28', 'U', 'U', 'U', 'U', 'U', 'E49', 'U', 'U', 'U', 'C47', 'U', 'U', 'U', 'U', 'U', 'U', 'U', 'U', 'U', 'C92', 'U', 'U', 'U', 'D28', 'U', 'U', 'U', 'E17', 'U', 'U', 'U', 'U', 'D17', 'U', 'U', 'U', 'U', 'A24', 'U', 'U', 'U', 'D35', 'B51 B53 B55', 'U', 'U', 'U', 'U', 'U', 'U', 'C50', 'U', 'U', 'U', 'U', 'U', 'U', 'U', 'B42', 'U', 'C148', 'U']\n"
     ]
    }
   ],
   "source": [
    "cabin_list = df1['Cabin'].tolist()\n",
    "print(cabin_list)"
   ]
  },
  {
   "cell_type": "code",
   "execution_count": 28,
   "metadata": {},
   "outputs": [
    {
     "name": "stdout",
     "output_type": "stream",
     "text": [
      "['U', 'C', 'U', 'C', 'U', 'U', 'E', 'U', 'U', 'U', 'G', 'C', 'U', 'U', 'U', 'U', 'U', 'U', 'U', 'U', 'U', 'D', 'U', 'A', 'U', 'U', 'U', 'C', 'U', 'U', 'U', 'B', 'U', 'U', 'U', 'U', 'U', 'U', 'U', 'U', 'U', 'U', 'U', 'U', 'U', 'U', 'U', 'U', 'U', 'U', 'U', 'U', 'D', 'U', 'B', 'C', 'U', 'U', 'U', 'U', 'U', 'B', 'C', 'U', 'U', 'U', 'F', 'U', 'U', 'U', 'U', 'U', 'U', 'U', 'U', 'F', 'U', 'U', 'U', 'U', 'U', 'U', 'U', 'U', 'U', 'U', 'U', 'U', 'C', 'U', 'U', 'U', 'E', 'U', 'U', 'U', 'A', 'D', 'U', 'U', 'U', 'U', 'D', 'U', 'U', 'U', 'U', 'U', 'U', 'U', 'C', 'U', 'U', 'U', 'U', 'U', 'U', 'U', 'B', 'U', 'U', 'U', 'U', 'E', 'D', 'U', 'U', 'U', 'F', 'U', 'U', 'U', 'U', 'U', 'U', 'U', 'D', 'C', 'U', 'B', 'U', 'U', 'U', 'U', 'U', 'U', 'U', 'U', 'F', 'U', 'U', 'C', 'U', 'U', 'U', 'U', 'U', 'U', 'U', 'U', 'U', 'U', 'U', 'U', 'U', 'U', 'E', 'U', 'U', 'U', 'B', 'U', 'U', 'U', 'A', 'U', 'U', 'C', 'U', 'U', 'U', 'U', 'U', 'F', 'U', 'A', 'U', 'U', 'U', 'U', 'U', 'U', 'U', 'F', 'B', 'B', 'U', 'U', 'U', 'U', 'U', 'U', 'U', 'U', 'U', 'G', 'U', 'U', 'U', 'A', 'U', 'U', 'U', 'U', 'U', 'D', 'U', 'U', 'D', 'U', 'U', 'U', 'U', 'U', 'C', 'U', 'U', 'U', 'U', 'U', 'C', 'U', 'U', 'U', 'U', 'U', 'U', 'U', 'U', 'U', 'U', 'U', 'U', 'U', 'U', 'C', 'U', 'U', 'D', 'U', 'U', 'G', 'C', 'U', 'U', 'U', 'U', 'B', 'U', 'U', 'U', 'U', 'E', 'B', 'U', 'U', 'U', 'U', 'C', 'C', 'U', 'U', 'U', 'C', 'U', 'D', 'U', 'U', 'U', 'U', 'U', 'U', 'U', 'U', 'A', 'U', 'U', 'U', 'U', 'U', 'U', 'B', 'D', 'U', 'U', 'U', 'U', 'C', 'C', 'B', 'U', 'U', 'U', 'E', 'U', 'C', 'U', 'C', 'U', 'E', 'C', 'B', 'U', 'U', 'U', 'U', 'U', 'U', 'C', 'E', 'U', 'U', 'U', 'U', 'U', 'C', 'U', 'D', 'U', 'B', 'U', 'C', 'C', 'U', 'U', 'U', 'C', 'E', 'U', 'T', 'F', 'C', 'U', 'U', 'U', 'F', 'U', 'U', 'U', 'U', 'U', 'C', 'U', 'U', 'U', 'U', 'E', 'U', 'U', 'U', 'U', 'U', 'U', 'U', 'U', 'U', 'D', 'U', 'U', 'B', 'E', 'U', 'U', 'U', 'U', 'U', 'U', 'C', 'U', 'U', 'U', 'U', 'U', 'U', 'U', 'U', 'U', 'U', 'U', 'U', 'B', 'U', 'U', 'D', 'G', 'U', 'U', 'U', 'U', 'U', 'U', 'U', 'U', 'U', 'U', 'U', 'U', 'U', 'U', 'U', 'U', 'U', 'C', 'U', 'U', 'U', 'U', 'U', 'U', 'U', 'U', 'U', 'U', 'U', 'U', 'U', 'U', 'U', 'U', 'E', 'C', 'U', 'U', 'U', 'E', 'B', 'U', 'U', 'C', 'U', 'U', 'U', 'U', 'U', 'U', 'A', 'U', 'U', 'U', 'C', 'U', 'U', 'C', 'C', 'U', 'U', 'E', 'D', 'U', 'U', 'E', 'U', 'E', 'U', 'U', 'U', 'U', 'U', 'U', 'U', 'U', 'U', 'U', 'D', 'U', 'A', 'U', 'U', 'U', 'U', 'U', 'U', 'U', 'U', 'B', 'U', 'C', 'B', 'U', 'U', 'U', 'U', 'C', 'U', 'U', 'U', 'D', 'U', 'C', 'U', 'U', 'U', 'U', 'U', 'B', 'C', 'U', 'U', 'U', 'U', 'U', 'U', 'E', 'U', 'U', 'D', 'F', 'U', 'U', 'U', 'B', 'U', 'U', 'B', 'U', 'U', 'U', 'C', 'U', 'U', 'U', 'U', 'U', 'U', 'U', 'U', 'B', 'U', 'U', 'B', 'B', 'U', 'U', 'U', 'C', 'U', 'U', 'U', 'U', 'U', 'C', 'U', 'U', 'U', 'U', 'U', 'A', 'U', 'E', 'U', 'U', 'U', 'U', 'U', 'U', 'U', 'U', 'U', 'U', 'U', 'U', 'C', 'E', 'U', 'U', 'U', 'U', 'E', 'U', 'U', 'U', 'C', 'U', 'A', 'U', 'E', 'U', 'B', 'U', 'U', 'U', 'D', 'U', 'U', 'U', 'U', 'U', 'U', 'U', 'A', 'U', 'U', 'U', 'U', 'U', 'U', 'U', 'U', 'U', 'C', 'U', 'U', 'U', 'U', 'U', 'U', 'U', 'U', 'F', 'U', 'U', 'D', 'U', 'U', 'U', 'D', 'U', 'D', 'U', 'U', 'A', 'U', 'B', 'U', 'U', 'U', 'U', 'U', 'U', 'U', 'U', 'B', 'U', 'U', 'U', 'D', 'U', 'A', 'U', 'U', 'U', 'U', 'U', 'U', 'U', 'U', 'U', 'U', 'U', 'D', 'U', 'U', 'E', 'U', 'U', 'U', 'U', 'U', 'U', 'C', 'U', 'B', 'U', 'U', 'U', 'U', 'U', 'U', 'U', 'B', 'U', 'D', 'U', 'U', 'U', 'U', 'U', 'U', 'U', 'B', 'B', 'U', 'U', 'U', 'U', 'U', 'U', 'U', 'C', 'F', 'C', 'E', 'U', 'U', 'U', 'U', 'U', 'E', 'U', 'U', 'C', 'C', 'C', 'U', 'U', 'F', 'C', 'E', 'U', 'U', 'U', 'U', 'U', 'U', 'E', 'U', 'U', 'U', 'U', 'U', 'B', 'U', 'U', 'U', 'U', 'U', 'U', 'B', 'U', 'U', 'D', 'C', 'B', 'U', 'U', 'B', 'U', 'U', 'D', 'U', 'U', 'E', 'U', 'U', 'U', 'U', 'U', 'U', 'U', 'B', 'U', 'U', 'U', 'B', 'U', 'D', 'U', 'U', 'U', 'U', 'U', 'U', 'E', 'U', 'U', 'U', 'F', 'U', 'U', 'B', 'U', 'B', 'D', 'U', 'U', 'U', 'U', 'U', 'U', 'B', 'U', 'U', 'U', 'U', 'U', 'U', 'D', 'U', 'U', 'U', 'U', 'U', 'B', 'U', 'U', 'U', 'A', 'U', 'U', 'E', 'U', 'U', 'U', 'U', 'U', 'B', 'U', 'U', 'U', 'U', 'B', 'U', 'U', 'E', 'U', 'U', 'U', 'U', 'U', 'B', 'U', 'U', 'U', 'U', 'U', 'E', 'U', 'U', 'U', 'C', 'U', 'U', 'U', 'U', 'U', 'U', 'U', 'U', 'U', 'C', 'U', 'U', 'U', 'D', 'U', 'U', 'U', 'E', 'U', 'U', 'U', 'U', 'D', 'U', 'U', 'U', 'U', 'A', 'U', 'U', 'U', 'D', 'B', 'U', 'U', 'U', 'U', 'U', 'U', 'C', 'U', 'U', 'U', 'U', 'U', 'U', 'U', 'B', 'U', 'C', 'U']\n"
     ]
    }
   ],
   "source": [
    "for i in range(len(cabin_list)):\n",
    "    cabin_list[i] = cabin_list[i][0]\n",
    "print(cabin_list)    "
   ]
  },
  {
   "cell_type": "code",
   "execution_count": 29,
   "metadata": {},
   "outputs": [
    {
     "name": "stdout",
     "output_type": "stream",
     "text": [
      "<class 'pandas.core.frame.DataFrame'>\n",
      "Int64Index: 891 entries, 1 to 891\n",
      "Data columns (total 12 columns):\n",
      " #   Column        Non-Null Count  Dtype  \n",
      "---  ------        --------------  -----  \n",
      " 0   Survived      891 non-null    int64  \n",
      " 1   Pclass        891 non-null    int64  \n",
      " 2   Name          891 non-null    object \n",
      " 3   Sex           891 non-null    int64  \n",
      " 4   Age           891 non-null    float64\n",
      " 5   SibSp         891 non-null    int64  \n",
      " 6   Parch         891 non-null    int64  \n",
      " 7   Ticket        891 non-null    object \n",
      " 8   Fare          891 non-null    float64\n",
      " 9   Cabin         891 non-null    object \n",
      " 10  Embarked      891 non-null    object \n",
      " 11  Cabin_unique  891 non-null    object \n",
      "dtypes: float64(2), int64(5), object(5)\n",
      "memory usage: 90.5+ KB\n"
     ]
    }
   ],
   "source": [
    "df1['Cabin_unique'] = cabin_list\n",
    "df1.info()"
   ]
  },
  {
   "cell_type": "code",
   "execution_count": 30,
   "metadata": {},
   "outputs": [
    {
     "data": {
      "text/plain": [
       "array(['U', 'C', 'E', 'G', 'D', 'A', 'B', 'F', 'T'], dtype=object)"
      ]
     },
     "execution_count": 30,
     "metadata": {},
     "output_type": "execute_result"
    }
   ],
   "source": [
    "df1['Cabin_unique'].unique()"
   ]
  },
  {
   "cell_type": "code",
   "execution_count": 31,
   "metadata": {},
   "outputs": [
    {
     "data": {
      "text/plain": [
       "array(['S', 'C', 'Q'], dtype=object)"
      ]
     },
     "execution_count": 31,
     "metadata": {},
     "output_type": "execute_result"
    }
   ],
   "source": [
    "df1['Embarked'].unique()"
   ]
  },
  {
   "cell_type": "code",
   "execution_count": 32,
   "metadata": {},
   "outputs": [
    {
     "data": {
      "text/plain": [
       "1    646\n",
       "2    168\n",
       "3     77\n",
       "Name: Embarked, dtype: int64"
      ]
     },
     "execution_count": 32,
     "metadata": {},
     "output_type": "execute_result"
    }
   ],
   "source": [
    "df1['Embarked'].replace(['S', 'C', 'Q'], [1, 2, 3], inplace = True)\n",
    "df1['Embarked'].value_counts()"
   ]
  },
  {
   "cell_type": "code",
   "execution_count": 33,
   "metadata": {},
   "outputs": [
    {
     "data": {
      "text/plain": [
       "count    891.000000\n",
       "mean      29.361582\n",
       "std       13.019697\n",
       "min        0.420000\n",
       "25%       22.000000\n",
       "50%       28.000000\n",
       "75%       35.000000\n",
       "max       80.000000\n",
       "Name: Age, dtype: float64"
      ]
     },
     "execution_count": 33,
     "metadata": {},
     "output_type": "execute_result"
    }
   ],
   "source": [
    "df1['Age'].describe()"
   ]
  },
  {
   "cell_type": "code",
   "execution_count": 34,
   "metadata": {},
   "outputs": [
    {
     "name": "stdout",
     "output_type": "stream",
     "text": [
      "{0: 0, 1: 0, 2: 0, 3: 0, 4: 0, 5: 0, 6: 0, 7: 0, 8: 0}\n"
     ]
    }
   ],
   "source": [
    "age_group = {0:0, 1:0, 2:0, 3:0, 4:0, 5:0, 6:0, 7:0, 8:0}\n",
    "print(age_group)"
   ]
  },
  {
   "cell_type": "code",
   "execution_count": 35,
   "metadata": {},
   "outputs": [
    {
     "name": "stdout",
     "output_type": "stream",
     "text": [
      "{0: 0, 1: 0, 2: 0, 3: 0, 4: 16, 5: 0, 6: 0, 7: 0, 8: 0}\n"
     ]
    }
   ],
   "source": [
    "age_group[4] = 16\n",
    "print(age_group)"
   ]
  },
  {
   "cell_type": "code",
   "execution_count": 36,
   "metadata": {},
   "outputs": [
    {
     "name": "stdout",
     "output_type": "stream",
     "text": [
      "{0: 62, 1: 102, 2: 397, 3: 167, 4: 105, 5: 48, 6: 19, 7: 6, 8: 1}\n"
     ]
    }
   ],
   "source": [
    "for age in df1['Age']:\n",
    "    age_group[int(age / 10)] += 1\n",
    "print(age_group)"
   ]
  },
  {
   "cell_type": "code",
   "execution_count": 37,
   "metadata": {},
   "outputs": [
    {
     "data": {
      "text/plain": [
       "array([2, 3, 5, 0, 1, 4, 6, 7, 8], dtype=int64)"
      ]
     },
     "execution_count": 37,
     "metadata": {},
     "output_type": "execute_result"
    }
   ],
   "source": [
    "df1['new_age'] = df1['Age'].apply(lambda x : int(x/10))\n",
    "df1['new_age'].unique()"
   ]
  },
  {
   "cell_type": "code",
   "execution_count": 38,
   "metadata": {},
   "outputs": [
    {
     "data": {
      "text/html": [
       "<div>\n",
       "<style scoped>\n",
       "    .dataframe tbody tr th:only-of-type {\n",
       "        vertical-align: middle;\n",
       "    }\n",
       "\n",
       "    .dataframe tbody tr th {\n",
       "        vertical-align: top;\n",
       "    }\n",
       "\n",
       "    .dataframe thead th {\n",
       "        text-align: right;\n",
       "    }\n",
       "</style>\n",
       "<table border=\"1\" class=\"dataframe\">\n",
       "  <thead>\n",
       "    <tr style=\"text-align: right;\">\n",
       "      <th></th>\n",
       "      <th>Survived</th>\n",
       "      <th>Pclass</th>\n",
       "      <th>Sex</th>\n",
       "      <th>Age</th>\n",
       "      <th>SibSp</th>\n",
       "      <th>Parch</th>\n",
       "      <th>Fare</th>\n",
       "      <th>Embarked</th>\n",
       "      <th>new_age</th>\n",
       "    </tr>\n",
       "    <tr>\n",
       "      <th>PassengerId</th>\n",
       "      <th></th>\n",
       "      <th></th>\n",
       "      <th></th>\n",
       "      <th></th>\n",
       "      <th></th>\n",
       "      <th></th>\n",
       "      <th></th>\n",
       "      <th></th>\n",
       "      <th></th>\n",
       "    </tr>\n",
       "  </thead>\n",
       "  <tbody>\n",
       "    <tr>\n",
       "      <th>1</th>\n",
       "      <td>0</td>\n",
       "      <td>3</td>\n",
       "      <td>0</td>\n",
       "      <td>22.0</td>\n",
       "      <td>1</td>\n",
       "      <td>0</td>\n",
       "      <td>7.2500</td>\n",
       "      <td>1</td>\n",
       "      <td>2</td>\n",
       "    </tr>\n",
       "    <tr>\n",
       "      <th>2</th>\n",
       "      <td>1</td>\n",
       "      <td>1</td>\n",
       "      <td>1</td>\n",
       "      <td>38.0</td>\n",
       "      <td>1</td>\n",
       "      <td>0</td>\n",
       "      <td>71.2833</td>\n",
       "      <td>2</td>\n",
       "      <td>3</td>\n",
       "    </tr>\n",
       "    <tr>\n",
       "      <th>3</th>\n",
       "      <td>1</td>\n",
       "      <td>3</td>\n",
       "      <td>1</td>\n",
       "      <td>26.0</td>\n",
       "      <td>0</td>\n",
       "      <td>0</td>\n",
       "      <td>7.9250</td>\n",
       "      <td>1</td>\n",
       "      <td>2</td>\n",
       "    </tr>\n",
       "    <tr>\n",
       "      <th>4</th>\n",
       "      <td>1</td>\n",
       "      <td>1</td>\n",
       "      <td>1</td>\n",
       "      <td>35.0</td>\n",
       "      <td>1</td>\n",
       "      <td>0</td>\n",
       "      <td>53.1000</td>\n",
       "      <td>1</td>\n",
       "      <td>3</td>\n",
       "    </tr>\n",
       "    <tr>\n",
       "      <th>5</th>\n",
       "      <td>0</td>\n",
       "      <td>3</td>\n",
       "      <td>0</td>\n",
       "      <td>35.0</td>\n",
       "      <td>0</td>\n",
       "      <td>0</td>\n",
       "      <td>8.0500</td>\n",
       "      <td>1</td>\n",
       "      <td>3</td>\n",
       "    </tr>\n",
       "    <tr>\n",
       "      <th>...</th>\n",
       "      <td>...</td>\n",
       "      <td>...</td>\n",
       "      <td>...</td>\n",
       "      <td>...</td>\n",
       "      <td>...</td>\n",
       "      <td>...</td>\n",
       "      <td>...</td>\n",
       "      <td>...</td>\n",
       "      <td>...</td>\n",
       "    </tr>\n",
       "    <tr>\n",
       "      <th>887</th>\n",
       "      <td>0</td>\n",
       "      <td>2</td>\n",
       "      <td>0</td>\n",
       "      <td>27.0</td>\n",
       "      <td>0</td>\n",
       "      <td>0</td>\n",
       "      <td>13.0000</td>\n",
       "      <td>1</td>\n",
       "      <td>2</td>\n",
       "    </tr>\n",
       "    <tr>\n",
       "      <th>888</th>\n",
       "      <td>1</td>\n",
       "      <td>1</td>\n",
       "      <td>1</td>\n",
       "      <td>19.0</td>\n",
       "      <td>0</td>\n",
       "      <td>0</td>\n",
       "      <td>30.0000</td>\n",
       "      <td>1</td>\n",
       "      <td>1</td>\n",
       "    </tr>\n",
       "    <tr>\n",
       "      <th>889</th>\n",
       "      <td>0</td>\n",
       "      <td>3</td>\n",
       "      <td>1</td>\n",
       "      <td>28.0</td>\n",
       "      <td>1</td>\n",
       "      <td>2</td>\n",
       "      <td>23.4500</td>\n",
       "      <td>1</td>\n",
       "      <td>2</td>\n",
       "    </tr>\n",
       "    <tr>\n",
       "      <th>890</th>\n",
       "      <td>1</td>\n",
       "      <td>1</td>\n",
       "      <td>0</td>\n",
       "      <td>26.0</td>\n",
       "      <td>0</td>\n",
       "      <td>0</td>\n",
       "      <td>30.0000</td>\n",
       "      <td>2</td>\n",
       "      <td>2</td>\n",
       "    </tr>\n",
       "    <tr>\n",
       "      <th>891</th>\n",
       "      <td>0</td>\n",
       "      <td>3</td>\n",
       "      <td>0</td>\n",
       "      <td>32.0</td>\n",
       "      <td>0</td>\n",
       "      <td>0</td>\n",
       "      <td>7.7500</td>\n",
       "      <td>3</td>\n",
       "      <td>3</td>\n",
       "    </tr>\n",
       "  </tbody>\n",
       "</table>\n",
       "<p>891 rows × 9 columns</p>\n",
       "</div>"
      ],
      "text/plain": [
       "             Survived  Pclass  Sex   Age  SibSp  Parch     Fare  Embarked  \\\n",
       "PassengerId                                                                 \n",
       "1                   0       3    0  22.0      1      0   7.2500         1   \n",
       "2                   1       1    1  38.0      1      0  71.2833         2   \n",
       "3                   1       3    1  26.0      0      0   7.9250         1   \n",
       "4                   1       1    1  35.0      1      0  53.1000         1   \n",
       "5                   0       3    0  35.0      0      0   8.0500         1   \n",
       "...               ...     ...  ...   ...    ...    ...      ...       ...   \n",
       "887                 0       2    0  27.0      0      0  13.0000         1   \n",
       "888                 1       1    1  19.0      0      0  30.0000         1   \n",
       "889                 0       3    1  28.0      1      2  23.4500         1   \n",
       "890                 1       1    0  26.0      0      0  30.0000         2   \n",
       "891                 0       3    0  32.0      0      0   7.7500         3   \n",
       "\n",
       "             new_age  \n",
       "PassengerId           \n",
       "1                  2  \n",
       "2                  3  \n",
       "3                  2  \n",
       "4                  3  \n",
       "5                  3  \n",
       "...              ...  \n",
       "887                2  \n",
       "888                1  \n",
       "889                2  \n",
       "890                2  \n",
       "891                3  \n",
       "\n",
       "[891 rows x 9 columns]"
      ]
     },
     "execution_count": 38,
     "metadata": {},
     "output_type": "execute_result"
    }
   ],
   "source": [
    "df1.select_dtypes(include = np.number)"
   ]
  },
  {
   "cell_type": "code",
   "execution_count": 39,
   "metadata": {},
   "outputs": [
    {
     "data": {
      "text/html": [
       "<div>\n",
       "<style scoped>\n",
       "    .dataframe tbody tr th:only-of-type {\n",
       "        vertical-align: middle;\n",
       "    }\n",
       "\n",
       "    .dataframe tbody tr th {\n",
       "        vertical-align: top;\n",
       "    }\n",
       "\n",
       "    .dataframe thead th {\n",
       "        text-align: right;\n",
       "    }\n",
       "</style>\n",
       "<table border=\"1\" class=\"dataframe\">\n",
       "  <thead>\n",
       "    <tr style=\"text-align: right;\">\n",
       "      <th></th>\n",
       "      <th>Name</th>\n",
       "      <th>Ticket</th>\n",
       "      <th>Cabin</th>\n",
       "      <th>Cabin_unique</th>\n",
       "    </tr>\n",
       "    <tr>\n",
       "      <th>PassengerId</th>\n",
       "      <th></th>\n",
       "      <th></th>\n",
       "      <th></th>\n",
       "      <th></th>\n",
       "    </tr>\n",
       "  </thead>\n",
       "  <tbody>\n",
       "    <tr>\n",
       "      <th>1</th>\n",
       "      <td>Braund, Mr. Owen Harris</td>\n",
       "      <td>A/5 21171</td>\n",
       "      <td>U</td>\n",
       "      <td>U</td>\n",
       "    </tr>\n",
       "    <tr>\n",
       "      <th>2</th>\n",
       "      <td>Cumings, Mrs. John Bradley (Florence Briggs Th...</td>\n",
       "      <td>PC 17599</td>\n",
       "      <td>C85</td>\n",
       "      <td>C</td>\n",
       "    </tr>\n",
       "    <tr>\n",
       "      <th>3</th>\n",
       "      <td>Heikkinen, Miss. Laina</td>\n",
       "      <td>STON/O2. 3101282</td>\n",
       "      <td>U</td>\n",
       "      <td>U</td>\n",
       "    </tr>\n",
       "    <tr>\n",
       "      <th>4</th>\n",
       "      <td>Futrelle, Mrs. Jacques Heath (Lily May Peel)</td>\n",
       "      <td>113803</td>\n",
       "      <td>C123</td>\n",
       "      <td>C</td>\n",
       "    </tr>\n",
       "    <tr>\n",
       "      <th>5</th>\n",
       "      <td>Allen, Mr. William Henry</td>\n",
       "      <td>373450</td>\n",
       "      <td>U</td>\n",
       "      <td>U</td>\n",
       "    </tr>\n",
       "    <tr>\n",
       "      <th>...</th>\n",
       "      <td>...</td>\n",
       "      <td>...</td>\n",
       "      <td>...</td>\n",
       "      <td>...</td>\n",
       "    </tr>\n",
       "    <tr>\n",
       "      <th>887</th>\n",
       "      <td>Montvila, Rev. Juozas</td>\n",
       "      <td>211536</td>\n",
       "      <td>U</td>\n",
       "      <td>U</td>\n",
       "    </tr>\n",
       "    <tr>\n",
       "      <th>888</th>\n",
       "      <td>Graham, Miss. Margaret Edith</td>\n",
       "      <td>112053</td>\n",
       "      <td>B42</td>\n",
       "      <td>B</td>\n",
       "    </tr>\n",
       "    <tr>\n",
       "      <th>889</th>\n",
       "      <td>Johnston, Miss. Catherine Helen \"Carrie\"</td>\n",
       "      <td>W./C. 6607</td>\n",
       "      <td>U</td>\n",
       "      <td>U</td>\n",
       "    </tr>\n",
       "    <tr>\n",
       "      <th>890</th>\n",
       "      <td>Behr, Mr. Karl Howell</td>\n",
       "      <td>111369</td>\n",
       "      <td>C148</td>\n",
       "      <td>C</td>\n",
       "    </tr>\n",
       "    <tr>\n",
       "      <th>891</th>\n",
       "      <td>Dooley, Mr. Patrick</td>\n",
       "      <td>370376</td>\n",
       "      <td>U</td>\n",
       "      <td>U</td>\n",
       "    </tr>\n",
       "  </tbody>\n",
       "</table>\n",
       "<p>891 rows × 4 columns</p>\n",
       "</div>"
      ],
      "text/plain": [
       "                                                          Name  \\\n",
       "PassengerId                                                      \n",
       "1                                      Braund, Mr. Owen Harris   \n",
       "2            Cumings, Mrs. John Bradley (Florence Briggs Th...   \n",
       "3                                       Heikkinen, Miss. Laina   \n",
       "4                 Futrelle, Mrs. Jacques Heath (Lily May Peel)   \n",
       "5                                     Allen, Mr. William Henry   \n",
       "...                                                        ...   \n",
       "887                                      Montvila, Rev. Juozas   \n",
       "888                               Graham, Miss. Margaret Edith   \n",
       "889                   Johnston, Miss. Catherine Helen \"Carrie\"   \n",
       "890                                      Behr, Mr. Karl Howell   \n",
       "891                                        Dooley, Mr. Patrick   \n",
       "\n",
       "                       Ticket Cabin Cabin_unique  \n",
       "PassengerId                                       \n",
       "1                   A/5 21171     U            U  \n",
       "2                    PC 17599   C85            C  \n",
       "3            STON/O2. 3101282     U            U  \n",
       "4                      113803  C123            C  \n",
       "5                      373450     U            U  \n",
       "...                       ...   ...          ...  \n",
       "887                    211536     U            U  \n",
       "888                    112053   B42            B  \n",
       "889                W./C. 6607     U            U  \n",
       "890                    111369  C148            C  \n",
       "891                    370376     U            U  \n",
       "\n",
       "[891 rows x 4 columns]"
      ]
     },
     "execution_count": 39,
     "metadata": {},
     "output_type": "execute_result"
    }
   ],
   "source": [
    "df1.select_dtypes(include = np.object)"
   ]
  },
  {
   "cell_type": "code",
   "execution_count": 40,
   "metadata": {},
   "outputs": [
    {
     "data": {
      "text/plain": [
       "(891, 13)"
      ]
     },
     "execution_count": 40,
     "metadata": {},
     "output_type": "execute_result"
    }
   ],
   "source": [
    "df1.shape"
   ]
  },
  {
   "cell_type": "code",
   "execution_count": 41,
   "metadata": {},
   "outputs": [
    {
     "data": {
      "text/plain": [
       "(418, 11)"
      ]
     },
     "execution_count": 41,
     "metadata": {},
     "output_type": "execute_result"
    }
   ],
   "source": [
    "df.shape"
   ]
  },
  {
   "cell_type": "code",
   "execution_count": 42,
   "metadata": {},
   "outputs": [
    {
     "data": {
      "text/plain": [
       "<AxesSubplot:xlabel='Age'>"
      ]
     },
     "execution_count": 42,
     "metadata": {},
     "output_type": "execute_result"
    },
    {
     "data": {
      "image/png": "[encoded data removed]",
      "text/plain": [
       "<Figure size 432x288 with 1 Axes>"
      ]
     },
     "metadata": {
      "needs_background": "light"
     },
     "output_type": "display_data"
    }
   ],
   "source": [
    "sns.boxplot(x = df1['Age'])"
   ]
  },
  {
   "cell_type": "code",
   "execution_count": 43,
   "metadata": {},
   "outputs": [
    {
     "data": {
      "text/plain": [
       "<AxesSubplot:xlabel='Fare'>"
      ]
     },
     "execution_count": 43,
     "metadata": {},
     "output_type": "execute_result"
    },
    {
     "data": {
      "image/png": "[encoded data removed]",
      "text/plain": [
       "<Figure size 432x288 with 1 Axes>"
      ]
     },
     "metadata": {
      "needs_background": "light"
     },
     "output_type": "display_data"
    }
   ],
   "source": [
    "sns.boxplot(x = df1['Fare'])"
   ]
  },
  {
   "cell_type": "markdown",
   "metadata": {},
   "source": [
    "## EDA"
   ]
  },
  {
   "cell_type": "code",
   "execution_count": 44,
   "metadata": {},
   "outputs": [
    {
     "data": {
      "image/png": "[encoded data removed]",
      "text/plain": [
       "<Figure size 432x288 with 1 Axes>"
      ]
     },
     "metadata": {
      "needs_background": "light"
     },
     "output_type": "display_data"
    }
   ],
   "source": [
    "sns.countplot(x =\"Survived\", data = df1)\n",
    "plt.title(\"0 - Didn't Survive , 1 - Survived\")\n",
    "plt.show()"
   ]
  },
  {
   "cell_type": "code",
   "execution_count": 45,
   "metadata": {},
   "outputs": [
    {
     "data": {
      "image/png": "[encoded data removed]",
      "text/plain": [
       "<Figure size 1296x576 with 2 Axes>"
      ]
     },
     "metadata": {
      "needs_background": "light"
     },
     "output_type": "display_data"
    }
   ],
   "source": [
    "fig, ax = plt.subplots(1, 2, figsize = (18, 8))\n",
    "sns.countplot(x = \"Sex\", data = df1, ax = ax[0])\n",
    "ax[0].set_title(\"Passengers: Male - 0, Female - 1\")\n",
    "sns.countplot(x = \"Sex\", hue = \"Survived\", data = df1, ax = ax[1])\n",
    "ax[1].set_title(\"Survived vs Dead\")\n",
    "plt.show()"
   ]
  },
  {
   "cell_type": "code",
   "execution_count": 46,
   "metadata": {},
   "outputs": [
    {
     "data": {
      "image/png": "[encoded data removed]",
      "text/plain": [
       "<Figure size 402.375x360 with 1 Axes>"
      ]
     },
     "metadata": {
      "needs_background": "light"
     },
     "output_type": "display_data"
    }
   ],
   "source": [
    "sns.catplot(x = \"Pclass\", y = \"Survived\", hue = \"Sex\", data = df1, kind = \"point\")\n",
    "plt.show()"
   ]
  },
  {
   "cell_type": "code",
   "execution_count": 47,
   "metadata": {},
   "outputs": [
    {
     "data": {
      "text/html": [
       "<style  type=\"text/css\" >\n",
       "#T_556759bc_ea0e_11eb_b805_40ec99df03d0row0_col0{\n",
       "            background-color:  #ee5b5e;\n",
       "            color:  #000000;\n",
       "        }#T_556759bc_ea0e_11eb_b805_40ec99df03d0row0_col1,#T_556759bc_ea0e_11eb_b805_40ec99df03d0row0_col3{\n",
       "            background-color:  #bf3a77;\n",
       "            color:  #f1f1f1;\n",
       "        }#T_556759bc_ea0e_11eb_b805_40ec99df03d0row0_col2{\n",
       "            background-color:  #992d80;\n",
       "            color:  #f1f1f1;\n",
       "        }#T_556759bc_ea0e_11eb_b805_40ec99df03d0row1_col0{\n",
       "            background-color:  #fea16e;\n",
       "            color:  #000000;\n",
       "        }#T_556759bc_ea0e_11eb_b805_40ec99df03d0row1_col1{\n",
       "            background-color:  #fde2a3;\n",
       "            color:  #000000;\n",
       "        }#T_556759bc_ea0e_11eb_b805_40ec99df03d0row1_col2,#T_556759bc_ea0e_11eb_b805_40ec99df03d0row2_col0,#T_556759bc_ea0e_11eb_b805_40ec99df03d0row2_col1,#T_556759bc_ea0e_11eb_b805_40ec99df03d0row2_col3{\n",
       "            background-color:  #fcfdbf;\n",
       "            color:  #000000;\n",
       "        }#T_556759bc_ea0e_11eb_b805_40ec99df03d0row1_col3{\n",
       "            background-color:  #fceeb0;\n",
       "            color:  #000000;\n",
       "        }#T_556759bc_ea0e_11eb_b805_40ec99df03d0row2_col2,#T_556759bc_ea0e_11eb_b805_40ec99df03d0row3_col2{\n",
       "            background-color:  #fde3a5;\n",
       "            color:  #000000;\n",
       "        }#T_556759bc_ea0e_11eb_b805_40ec99df03d0row3_col0{\n",
       "            background-color:  #d9466b;\n",
       "            color:  #f1f1f1;\n",
       "        }#T_556759bc_ea0e_11eb_b805_40ec99df03d0row3_col1{\n",
       "            background-color:  #ea5661;\n",
       "            color:  #000000;\n",
       "        }#T_556759bc_ea0e_11eb_b805_40ec99df03d0row3_col3{\n",
       "            background-color:  #fea571;\n",
       "            color:  #000000;\n",
       "        }#T_556759bc_ea0e_11eb_b805_40ec99df03d0row4_col0,#T_556759bc_ea0e_11eb_b805_40ec99df03d0row4_col1,#T_556759bc_ea0e_11eb_b805_40ec99df03d0row4_col2,#T_556759bc_ea0e_11eb_b805_40ec99df03d0row4_col3{\n",
       "            background-color:  #000004;\n",
       "            color:  #f1f1f1;\n",
       "        }</style><table id=\"T_556759bc_ea0e_11eb_b805_40ec99df03d0\" ><thead>    <tr>        <th class=\"blank\" ></th>        <th class=\"index_name level0\" >Pclass</th>        <th class=\"col_heading level0 col0\" >1</th>        <th class=\"col_heading level0 col1\" >2</th>        <th class=\"col_heading level0 col2\" >3</th>        <th class=\"col_heading level0 col3\" >All</th>    </tr>    <tr>        <th class=\"index_name level0\" >Sex</th>        <th class=\"index_name level1\" >Survived</th>        <th class=\"blank\" ></th>        <th class=\"blank\" ></th>        <th class=\"blank\" ></th>        <th class=\"blank\" ></th>    </tr></thead><tbody>\n",
       "                <tr>\n",
       "                        <th id=\"T_556759bc_ea0e_11eb_b805_40ec99df03d0level0_row0\" class=\"row_heading level0 row0\" rowspan=2>0</th>\n",
       "                        <th id=\"T_556759bc_ea0e_11eb_b805_40ec99df03d0level1_row0\" class=\"row_heading level1 row0\" >0</th>\n",
       "                        <td id=\"T_556759bc_ea0e_11eb_b805_40ec99df03d0row0_col0\" class=\"data row0 col0\" >77</td>\n",
       "                        <td id=\"T_556759bc_ea0e_11eb_b805_40ec99df03d0row0_col1\" class=\"data row0 col1\" >91</td>\n",
       "                        <td id=\"T_556759bc_ea0e_11eb_b805_40ec99df03d0row0_col2\" class=\"data row0 col2\" >300</td>\n",
       "                        <td id=\"T_556759bc_ea0e_11eb_b805_40ec99df03d0row0_col3\" class=\"data row0 col3\" >468</td>\n",
       "            </tr>\n",
       "            <tr>\n",
       "                                <th id=\"T_556759bc_ea0e_11eb_b805_40ec99df03d0level1_row1\" class=\"row_heading level1 row1\" >1</th>\n",
       "                        <td id=\"T_556759bc_ea0e_11eb_b805_40ec99df03d0row1_col0\" class=\"data row1 col0\" >45</td>\n",
       "                        <td id=\"T_556759bc_ea0e_11eb_b805_40ec99df03d0row1_col1\" class=\"data row1 col1\" >17</td>\n",
       "                        <td id=\"T_556759bc_ea0e_11eb_b805_40ec99df03d0row1_col2\" class=\"data row1 col2\" >47</td>\n",
       "                        <td id=\"T_556759bc_ea0e_11eb_b805_40ec99df03d0row1_col3\" class=\"data row1 col3\" >109</td>\n",
       "            </tr>\n",
       "            <tr>\n",
       "                        <th id=\"T_556759bc_ea0e_11eb_b805_40ec99df03d0level0_row2\" class=\"row_heading level0 row2\" rowspan=2>1</th>\n",
       "                        <th id=\"T_556759bc_ea0e_11eb_b805_40ec99df03d0level1_row2\" class=\"row_heading level1 row2\" >0</th>\n",
       "                        <td id=\"T_556759bc_ea0e_11eb_b805_40ec99df03d0row2_col0\" class=\"data row2 col0\" >3</td>\n",
       "                        <td id=\"T_556759bc_ea0e_11eb_b805_40ec99df03d0row2_col1\" class=\"data row2 col1\" >6</td>\n",
       "                        <td id=\"T_556759bc_ea0e_11eb_b805_40ec99df03d0row2_col2\" class=\"data row2 col2\" >72</td>\n",
       "                        <td id=\"T_556759bc_ea0e_11eb_b805_40ec99df03d0row2_col3\" class=\"data row2 col3\" >81</td>\n",
       "            </tr>\n",
       "            <tr>\n",
       "                                <th id=\"T_556759bc_ea0e_11eb_b805_40ec99df03d0level1_row3\" class=\"row_heading level1 row3\" >1</th>\n",
       "                        <td id=\"T_556759bc_ea0e_11eb_b805_40ec99df03d0row3_col0\" class=\"data row3 col0\" >91</td>\n",
       "                        <td id=\"T_556759bc_ea0e_11eb_b805_40ec99df03d0row3_col1\" class=\"data row3 col1\" >70</td>\n",
       "                        <td id=\"T_556759bc_ea0e_11eb_b805_40ec99df03d0row3_col2\" class=\"data row3 col2\" >72</td>\n",
       "                        <td id=\"T_556759bc_ea0e_11eb_b805_40ec99df03d0row3_col3\" class=\"data row3 col3\" >233</td>\n",
       "            </tr>\n",
       "            <tr>\n",
       "                        <th id=\"T_556759bc_ea0e_11eb_b805_40ec99df03d0level0_row4\" class=\"row_heading level0 row4\" >All</th>\n",
       "                        <th id=\"T_556759bc_ea0e_11eb_b805_40ec99df03d0level1_row4\" class=\"row_heading level1 row4\" ></th>\n",
       "                        <td id=\"T_556759bc_ea0e_11eb_b805_40ec99df03d0row4_col0\" class=\"data row4 col0\" >216</td>\n",
       "                        <td id=\"T_556759bc_ea0e_11eb_b805_40ec99df03d0row4_col1\" class=\"data row4 col1\" >184</td>\n",
       "                        <td id=\"T_556759bc_ea0e_11eb_b805_40ec99df03d0row4_col2\" class=\"data row4 col2\" >491</td>\n",
       "                        <td id=\"T_556759bc_ea0e_11eb_b805_40ec99df03d0row4_col3\" class=\"data row4 col3\" >891</td>\n",
       "            </tr>\n",
       "    </tbody></table>"
      ],
      "text/plain": [
       "<pandas.io.formats.style.Styler at 0x25ed71d4dc0>"
      ]
     },
     "execution_count": 47,
     "metadata": {},
     "output_type": "execute_result"
    }
   ],
   "source": [
    "pd.crosstab([df1[\"Sex\"], df1[\"Survived\"]], df1[\"Pclass\"], margins = True).style.background_gradient(cmap = \"magma_r\")"
   ]
  },
  {
   "cell_type": "code",
   "execution_count": 48,
   "metadata": {},
   "outputs": [
    {
     "data": {
      "image/png": "[encoded data removed]",
      "text/plain": [
       "<Figure size 1368x360 with 2 Axes>"
      ]
     },
     "metadata": {
      "needs_background": "light"
     },
     "output_type": "display_data"
    }
   ],
   "source": [
    "fig, ax = plt.subplots(1, 2, figsize = (19, 5))\n",
    "sns.countplot(x = \"Pclass\", data = df1, ax = ax[0])\n",
    "ax[0].set_title(\"Passengers by class\")\n",
    "sns.countplot(x = \"Pclass\", hue = \"Survived\", data = df1, ax = ax[1])\n",
    "ax[1].set_title(\"Passengers Survived vs Dead\")\n",
    "plt.show()"
   ]
  },
  {
   "cell_type": "code",
   "execution_count": 49,
   "metadata": {},
   "outputs": [
    {
     "data": {
      "image/png": "[encoded data removed]",
      "text/plain": [
       "<Figure size 432x288 with 1 Axes>"
      ]
     },
     "metadata": {
      "needs_background": "light"
     },
     "output_type": "display_data"
    }
   ],
   "source": [
    "sns.barplot(x = \"Sex\", y = \"Survived\", hue = \"Pclass\", data = df1)\n",
    "plt.title(\"Sex: 0 = Male, 1 = Female\")\n",
    "plt.show()"
   ]
  },
  {
   "cell_type": "code",
   "execution_count": 50,
   "metadata": {},
   "outputs": [
    {
     "data": {
      "image/png": "[encoded data removed]",
      "text/plain": [
       "<Figure size 432x288 with 1 Axes>"
      ]
     },
     "metadata": {
      "needs_background": "light"
     },
     "output_type": "display_data"
    }
   ],
   "source": [
    "sns.boxplot(x = df1[\"Fare\"])\n",
    "plt.show()"
   ]
  },
  {
   "cell_type": "code",
   "execution_count": 51,
   "metadata": {},
   "outputs": [
    {
     "data": {
      "image/png": "[encoded data removed]",
      "text/plain": [
       "<Figure size 1080x360 with 3 Axes>"
      ]
     },
     "metadata": {
      "needs_background": "light"
     },
     "output_type": "display_data"
    }
   ],
   "source": [
    "fig, ax = plt.subplots(1, 3, figsize = (15, 5))\n",
    "sns.boxplot(x = df1[df1[\"Pclass\"] == 1][\"Fare\"], ax = ax[0])\n",
    "ax[0].set_title(\"Fares in Class 1\")\n",
    "sns.boxplot(x = df1[df1[\"Pclass\"] == 2][\"Fare\"], ax = ax[1])\n",
    "ax[1].set_title(\"Fares in class 2\")\n",
    "sns.boxplot(x = df1[df1[\"Pclass\"] == 3][\"Fare\"], ax = ax[2])\n",
    "ax[2].set_title(\"Fares in class 3\")\n",
    "plt.show()"
   ]
  },
  {
   "cell_type": "code",
   "execution_count": 52,
   "metadata": {},
   "outputs": [
    {
     "data": {
      "text/html": [
       "<style  type=\"text/css\" >\n",
       "#T_55f91708_ea0e_11eb_8ecf_40ec99df03d0row0_col0{\n",
       "            background-color:  #fc8c63;\n",
       "            color:  #000000;\n",
       "        }#T_55f91708_ea0e_11eb_8ecf_40ec99df03d0row0_col1{\n",
       "            background-color:  #c03a76;\n",
       "            color:  #f1f1f1;\n",
       "        }#T_55f91708_ea0e_11eb_8ecf_40ec99df03d0row0_col2{\n",
       "            background-color:  #9c2e7f;\n",
       "            color:  #f1f1f1;\n",
       "        }#T_55f91708_ea0e_11eb_8ecf_40ec99df03d0row0_col3{\n",
       "            background-color:  #c53c74;\n",
       "            color:  #f1f1f1;\n",
       "        }#T_55f91708_ea0e_11eb_8ecf_40ec99df03d0row1_col0{\n",
       "            background-color:  #ed5a5f;\n",
       "            color:  #000000;\n",
       "        }#T_55f91708_ea0e_11eb_8ecf_40ec99df03d0row1_col1{\n",
       "            background-color:  #db476a;\n",
       "            color:  #000000;\n",
       "        }#T_55f91708_ea0e_11eb_8ecf_40ec99df03d0row1_col2{\n",
       "            background-color:  #fed395;\n",
       "            color:  #000000;\n",
       "        }#T_55f91708_ea0e_11eb_8ecf_40ec99df03d0row1_col3{\n",
       "            background-color:  #fd9668;\n",
       "            color:  #000000;\n",
       "        }#T_55f91708_ea0e_11eb_8ecf_40ec99df03d0row2_col0{\n",
       "            background-color:  #fec88c;\n",
       "            color:  #000000;\n",
       "        }#T_55f91708_ea0e_11eb_8ecf_40ec99df03d0row2_col1{\n",
       "            background-color:  #fcecae;\n",
       "            color:  #000000;\n",
       "        }#T_55f91708_ea0e_11eb_8ecf_40ec99df03d0row2_col2{\n",
       "            background-color:  #fceeb0;\n",
       "            color:  #000000;\n",
       "        }#T_55f91708_ea0e_11eb_8ecf_40ec99df03d0row2_col3{\n",
       "            background-color:  #fde5a7;\n",
       "            color:  #000000;\n",
       "        }#T_55f91708_ea0e_11eb_8ecf_40ec99df03d0row3_col0{\n",
       "            background-color:  #fa7d5e;\n",
       "            color:  #000000;\n",
       "        }#T_55f91708_ea0e_11eb_8ecf_40ec99df03d0row3_col1{\n",
       "            background-color:  #fde9aa;\n",
       "            color:  #000000;\n",
       "        }#T_55f91708_ea0e_11eb_8ecf_40ec99df03d0row3_col2,#T_55f91708_ea0e_11eb_8ecf_40ec99df03d0row4_col0,#T_55f91708_ea0e_11eb_8ecf_40ec99df03d0row4_col1,#T_55f91708_ea0e_11eb_8ecf_40ec99df03d0row5_col0,#T_55f91708_ea0e_11eb_8ecf_40ec99df03d0row5_col3{\n",
       "            background-color:  #fcfdbf;\n",
       "            color:  #000000;\n",
       "        }#T_55f91708_ea0e_11eb_8ecf_40ec99df03d0row3_col3{\n",
       "            background-color:  #fddc9e;\n",
       "            color:  #000000;\n",
       "        }#T_55f91708_ea0e_11eb_8ecf_40ec99df03d0row4_col2{\n",
       "            background-color:  #fdebac;\n",
       "            color:  #000000;\n",
       "        }#T_55f91708_ea0e_11eb_8ecf_40ec99df03d0row4_col3{\n",
       "            background-color:  #fcf4b6;\n",
       "            color:  #000000;\n",
       "        }#T_55f91708_ea0e_11eb_8ecf_40ec99df03d0row5_col1,#T_55f91708_ea0e_11eb_8ecf_40ec99df03d0row5_col2{\n",
       "            background-color:  #fcfbbd;\n",
       "            color:  #000000;\n",
       "        }#T_55f91708_ea0e_11eb_8ecf_40ec99df03d0row6_col0,#T_55f91708_ea0e_11eb_8ecf_40ec99df03d0row6_col1,#T_55f91708_ea0e_11eb_8ecf_40ec99df03d0row6_col2,#T_55f91708_ea0e_11eb_8ecf_40ec99df03d0row6_col3{\n",
       "            background-color:  #000004;\n",
       "            color:  #f1f1f1;\n",
       "        }</style><table id=\"T_55f91708_ea0e_11eb_8ecf_40ec99df03d0\" ><thead>    <tr>        <th class=\"blank\" ></th>        <th class=\"index_name level0\" >Pclass</th>        <th class=\"col_heading level0 col0\" >1</th>        <th class=\"col_heading level0 col1\" >2</th>        <th class=\"col_heading level0 col2\" >3</th>        <th class=\"col_heading level0 col3\" >All</th>    </tr>    <tr>        <th class=\"index_name level0\" >Embarked</th>        <th class=\"index_name level1\" >Survived</th>        <th class=\"blank\" ></th>        <th class=\"blank\" ></th>        <th class=\"blank\" ></th>        <th class=\"blank\" ></th>    </tr></thead><tbody>\n",
       "                <tr>\n",
       "                        <th id=\"T_55f91708_ea0e_11eb_8ecf_40ec99df03d0level0_row0\" class=\"row_heading level0 row0\" rowspan=2>1</th>\n",
       "                        <th id=\"T_55f91708_ea0e_11eb_8ecf_40ec99df03d0level1_row0\" class=\"row_heading level1 row0\" >0</th>\n",
       "                        <td id=\"T_55f91708_ea0e_11eb_8ecf_40ec99df03d0row0_col0\" class=\"data row0 col0\" >53</td>\n",
       "                        <td id=\"T_55f91708_ea0e_11eb_8ecf_40ec99df03d0row0_col1\" class=\"data row0 col1\" >88</td>\n",
       "                        <td id=\"T_55f91708_ea0e_11eb_8ecf_40ec99df03d0row0_col2\" class=\"data row0 col2\" >286</td>\n",
       "                        <td id=\"T_55f91708_ea0e_11eb_8ecf_40ec99df03d0row0_col3\" class=\"data row0 col3\" >427</td>\n",
       "            </tr>\n",
       "            <tr>\n",
       "                                <th id=\"T_55f91708_ea0e_11eb_8ecf_40ec99df03d0level1_row1\" class=\"row_heading level1 row1\" >1</th>\n",
       "                        <td id=\"T_55f91708_ea0e_11eb_8ecf_40ec99df03d0row1_col0\" class=\"data row1 col0\" >76</td>\n",
       "                        <td id=\"T_55f91708_ea0e_11eb_8ecf_40ec99df03d0row1_col1\" class=\"data row1 col1\" >76</td>\n",
       "                        <td id=\"T_55f91708_ea0e_11eb_8ecf_40ec99df03d0row1_col2\" class=\"data row1 col2\" >67</td>\n",
       "                        <td id=\"T_55f91708_ea0e_11eb_8ecf_40ec99df03d0row1_col3\" class=\"data row1 col3\" >219</td>\n",
       "            </tr>\n",
       "            <tr>\n",
       "                        <th id=\"T_55f91708_ea0e_11eb_8ecf_40ec99df03d0level0_row2\" class=\"row_heading level0 row2\" rowspan=2>2</th>\n",
       "                        <th id=\"T_55f91708_ea0e_11eb_8ecf_40ec99df03d0level1_row2\" class=\"row_heading level1 row2\" >0</th>\n",
       "                        <td id=\"T_55f91708_ea0e_11eb_8ecf_40ec99df03d0row2_col0\" class=\"data row2 col0\" >26</td>\n",
       "                        <td id=\"T_55f91708_ea0e_11eb_8ecf_40ec99df03d0row2_col1\" class=\"data row2 col1\" >8</td>\n",
       "                        <td id=\"T_55f91708_ea0e_11eb_8ecf_40ec99df03d0row2_col2\" class=\"data row2 col2\" >41</td>\n",
       "                        <td id=\"T_55f91708_ea0e_11eb_8ecf_40ec99df03d0row2_col3\" class=\"data row2 col3\" >75</td>\n",
       "            </tr>\n",
       "            <tr>\n",
       "                                <th id=\"T_55f91708_ea0e_11eb_8ecf_40ec99df03d0level1_row3\" class=\"row_heading level1 row3\" >1</th>\n",
       "                        <td id=\"T_55f91708_ea0e_11eb_8ecf_40ec99df03d0row3_col0\" class=\"data row3 col0\" >59</td>\n",
       "                        <td id=\"T_55f91708_ea0e_11eb_8ecf_40ec99df03d0row3_col1\" class=\"data row3 col1\" >9</td>\n",
       "                        <td id=\"T_55f91708_ea0e_11eb_8ecf_40ec99df03d0row3_col2\" class=\"data row3 col2\" >25</td>\n",
       "                        <td id=\"T_55f91708_ea0e_11eb_8ecf_40ec99df03d0row3_col3\" class=\"data row3 col3\" >93</td>\n",
       "            </tr>\n",
       "            <tr>\n",
       "                        <th id=\"T_55f91708_ea0e_11eb_8ecf_40ec99df03d0level0_row4\" class=\"row_heading level0 row4\" rowspan=2>3</th>\n",
       "                        <th id=\"T_55f91708_ea0e_11eb_8ecf_40ec99df03d0level1_row4\" class=\"row_heading level1 row4\" >0</th>\n",
       "                        <td id=\"T_55f91708_ea0e_11eb_8ecf_40ec99df03d0row4_col0\" class=\"data row4 col0\" >1</td>\n",
       "                        <td id=\"T_55f91708_ea0e_11eb_8ecf_40ec99df03d0row4_col1\" class=\"data row4 col1\" >1</td>\n",
       "                        <td id=\"T_55f91708_ea0e_11eb_8ecf_40ec99df03d0row4_col2\" class=\"data row4 col2\" >45</td>\n",
       "                        <td id=\"T_55f91708_ea0e_11eb_8ecf_40ec99df03d0row4_col3\" class=\"data row4 col3\" >47</td>\n",
       "            </tr>\n",
       "            <tr>\n",
       "                                <th id=\"T_55f91708_ea0e_11eb_8ecf_40ec99df03d0level1_row5\" class=\"row_heading level1 row5\" >1</th>\n",
       "                        <td id=\"T_55f91708_ea0e_11eb_8ecf_40ec99df03d0row5_col0\" class=\"data row5 col0\" >1</td>\n",
       "                        <td id=\"T_55f91708_ea0e_11eb_8ecf_40ec99df03d0row5_col1\" class=\"data row5 col1\" >2</td>\n",
       "                        <td id=\"T_55f91708_ea0e_11eb_8ecf_40ec99df03d0row5_col2\" class=\"data row5 col2\" >27</td>\n",
       "                        <td id=\"T_55f91708_ea0e_11eb_8ecf_40ec99df03d0row5_col3\" class=\"data row5 col3\" >30</td>\n",
       "            </tr>\n",
       "            <tr>\n",
       "                        <th id=\"T_55f91708_ea0e_11eb_8ecf_40ec99df03d0level0_row6\" class=\"row_heading level0 row6\" >All</th>\n",
       "                        <th id=\"T_55f91708_ea0e_11eb_8ecf_40ec99df03d0level1_row6\" class=\"row_heading level1 row6\" ></th>\n",
       "                        <td id=\"T_55f91708_ea0e_11eb_8ecf_40ec99df03d0row6_col0\" class=\"data row6 col0\" >216</td>\n",
       "                        <td id=\"T_55f91708_ea0e_11eb_8ecf_40ec99df03d0row6_col1\" class=\"data row6 col1\" >184</td>\n",
       "                        <td id=\"T_55f91708_ea0e_11eb_8ecf_40ec99df03d0row6_col2\" class=\"data row6 col2\" >491</td>\n",
       "                        <td id=\"T_55f91708_ea0e_11eb_8ecf_40ec99df03d0row6_col3\" class=\"data row6 col3\" >891</td>\n",
       "            </tr>\n",
       "    </tbody></table>"
      ],
      "text/plain": [
       "<pandas.io.formats.style.Styler at 0x25ed7482f70>"
      ]
     },
     "execution_count": 52,
     "metadata": {},
     "output_type": "execute_result"
    }
   ],
   "source": [
    "pd.crosstab([df1[\"Embarked\"], df1[\"Survived\"]], df1[\"Pclass\"], margins = True).style.background_gradient(cmap = \"magma_r\")"
   ]
  },
  {
   "cell_type": "code",
   "execution_count": null,
   "metadata": {},
   "outputs": [],
   "source": []
  }
 ],
 "metadata": {
  "kernelspec": {
   "display_name": "Python 3",
   "language": "python",
   "name": "python3"
  },
  "language_info": {
   "codemirror_mode": {
    "name": "ipython",
    "version": 3
   },
   "file_extension": ".py",
   "mimetype": "text/x-python",
   "name": "python",
   "nbconvert_exporter": "python",
   "pygments_lexer": "ipython3",
   "version": "3.8.5"
  }
 },
 "nbformat": 4,
 "nbformat_minor": 4
}
